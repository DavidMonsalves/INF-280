{
 "cells": [
  {
   "cell_type": "markdown",
   "metadata": {},
   "source": [
    "<img src=\"img/usmlogo.png\" style=\"float:right;height:85px\"> <img src=\"img/dilogo.png\" style=\"float:left;height:90px\">\n",
    "<center>\n",
    "    <h1> Laboratorio 1 </h1>\n",
    "    <h2> Profesor: Ricardo Ñanculef </h2>\n",
    "    <h3> Ayudante: Gabriel Ortega </h3>\n",
    "    <h4> David Monsalves M. ; 201773547-3 ; Malla nueva </h4>\n",
    "    <h4> Sebastián Soto T. ;  201773501-5 ; Malla nueva </h4>\n",
    "</center>\n",
    "<p>\n",
    "<center><h4>Marzo 2019</h4></center>\n",
    "</p>"
   ]
  },
  {
   "cell_type": "markdown",
   "metadata": {},
   "source": [
    "## Instrucciones\n",
    "\n",
    "\n",
    "La modalidad de trabajo será mediante el uso de jupyter notebook. El notebook debe ser desarrollado en parejas o individual. Este laboratorio debe ser entregado el día 5 de abril.\n",
    "\n",
    "La **modalidad de entrega será un archivo Apellido1_Apellido2_Lab1.zip** que contenga un notebook que incluya todas las preguntas con sus respectivas respuestas + un README que indique la forma correcta de ejecutar su notebook. Este notebook presenta ciertas preguntas marcadas con **O:** que indican que para los alumnos de malla nueva es opcional, pero obligatoria para los alumnos de malla vieja. En el caso de haber una pareja con un integrante de malla nueva y uno de malla vieja, se considera malla vieja. El laboratorio puede ser trabajado tanto en lenguaje R como en lenguaje python (para los que usen python 2.X, absténganse a las consecuencias). Lea bien el enunciado.\n",
    "\n",
    "\n",
    "**Cualquier copia detectada implicará reprobación del laboratorio con nota 0 (lo que implica reprobar el ramo con nota 0) además de la notificación correspondiente al Profesor.** \n",
    "\n",
    "**Puntos bonus para todos:** Debido a que a veces hay preguntas que les piden una conclusión utilizando ciertos elementos, si lo desea, puede agregar elementos extra para hacer una mejor conclusión o concluir algo más que tenga sentido con lo anterior; estos gráficos pueden otorgar puntos bonus dependiendo de su calidad y del comentario que lo acompañe (con un máximo de 3 puntos bonus por pregunta, no acumulables si alcanza la nota máxima)"
   ]
  },
  {
   "cell_type": "markdown",
   "metadata": {},
   "source": [
    "## 1. Sarcasmo en Reddit (30p)\n",
    "\n",
    "Reddit es una página web muy conocida que, en simples palabras, es una compilación de muchos foros llamados \"subreddits\", en esta sección trabajará con un dataset que contiene una compilación de comentarios realizados por usuarios en distintos subreddits, los que vienen con una indicación de si el comentario es sarcástico o no.\n",
    "[Fuente](https://www.kaggle.com/sherinclaudia/sarcastic-comments-on-reddit)\n",
    "\n",
    ">a) **O:** Cargue los datos y resuma brevemente que contiene el dataset "
   ]
  },
  {
   "cell_type": "code",
   "execution_count": 1,
   "metadata": {},
   "outputs": [
    {
     "name": "stdout",
     "output_type": "stream",
     "text": [
      "['label', 'comment', 'author', 'subreddit', 'score', 'ups', 'downs', 'date', 'created_utc', 'parent_comment']\n",
      "['0', 'NC and NH.', 'Trumpbart', 'politics', '2', '-1', '-1', '2016-10', '2016-10-16 23:55:23', \"Yeah, I get that argument. At this point, I'd prefer is she lived in NC as well.\"]\n",
      "['0', 'You do know west teams play against west teams more than east teams right?', 'Shbshb906', 'nba', '-4', '-1', '-1', '2016-11', '2016-11-01 00:24:10', 'The blazers and Mavericks (The wests 5 and 6 seed) did not even carry a good enough record to make the playoffs in the east last year.']\n",
      "['0', \"They were underdogs earlier today, but since Gronk's announcement this afternoon, the Vegas line has moved to patriots -1\", 'Creepeth', 'nfl', '3', '3', '0', '2016-09', '2016-09-22 21:45:37', \"They're favored to win.\"]\n",
      "['0', 'This meme isn\\'t funny none of the \"new york nigga\" ones are.', 'icebrotha', 'BlackPeopleTwitter', '-8', '-1', '-1', '2016-10', '2016-10-18 21:03:47', \"deadass don't kill my buzz\"]\n",
      "['0', 'I could use one of those tools.', 'cush2push', 'MaddenUltimateTeam', '6', '-1', '-1', '2016-12', '2016-12-30 17:00:13', 'Yep can confirm I saw the tool they use for that. It was made by our boy EASports_MUT']\n"
     ]
    }
   ],
   "source": [
    "# Cargamos el set y leemos por cada fila.\n",
    "\n",
    "import csv\n",
    "n = 0\n",
    "with open('reddit.csv', newline='') as File:  \n",
    "    reader = csv.reader(File)\n",
    "    for row in reader:\n",
    "        if n < 6:\n",
    "            print(row)\n",
    "            n += 1"
   ]
  },
  {
   "cell_type": "markdown",
   "metadata": {},
   "source": [
    "> El dataset contiene datos, donde las columnas son: Etiqueta, comentario, autor, subreddit, puntaje, cantidad de me gustas, cantidad de no me gustas, fecha, horario y respuesta del comentario. Cada fila tiene el valor que corresponde a cada columna asociada."
   ]
  },
  {
   "cell_type": "markdown",
   "metadata": {},
   "source": [
    ">b) ¿Existe algún subreddit donde los comentarios no sarcásticos predominen? ¿Y alguno donde predominen los comentarios sarcásticos? \n"
   ]
  },
  {
   "cell_type": "markdown",
   "metadata": {},
   "source": [
    "## CÓDIGO b):"
   ]
  },
  {
   "cell_type": "code",
   "execution_count": 2,
   "metadata": {},
   "outputs": [],
   "source": [
    "dic_sub = dict()\n",
    "cont_yr = dict()\n",
    "n = 1\n",
    "\n",
    "# Se lee y se cuenta la cantidad de comentarios sarcásticos y no sarcástico del subreddit que ha salido\n",
    "# y se agrega a un diccionario dic_sub. Además se agrega al diccionario cont_yr la cantidad de comentarios sarcásticos\n",
    "# y no sarcásticos según el año que aparece.\n",
    "\n",
    "with open('reddit.csv', newline='') as File:  \n",
    "    reader = csv.reader(File)\n",
    "    for row in reader:\n",
    "        if n != 1:\n",
    "            if row[3] not in dic_sub.keys():\n",
    "                dic_sub[row[3]] = [0,0]\n",
    "            elif row[0] == '0' :\n",
    "                dic_sub[row[3]][0] += 1\n",
    "            else:\n",
    "                dic_sub[row[3]][1] += 1\n",
    "                \n",
    "            year =int(row[8].split('-')[0])\n",
    "            if year not in cont_yr.keys():\n",
    "                cont_yr[year] = [0,0]\n",
    "            elif row[0] == '0' :\n",
    "                cont_yr[year][0] += 1\n",
    "            else:\n",
    "                cont_yr[year][1] += 1\n",
    "        n = 2\n",
    "# Se filtra subreddits que contengan mas de 1000 comentarios     \n",
    "sub_reddits = list()\n",
    "for subr in dic_sub.items():\n",
    "    filtro = subr[1][0] + subr[1][1]\n",
    "    if filtro > 1000:\n",
    "        sub_reddits.append(subr)\n",
    "\n",
    "#se separa los subreddits con comentarios sarcásticos y no sarcásticos en las dos listas siguientes.\n",
    "# las listas contiene tuplas con (probabilidad,subreddit,cant_no_sarcasticos,cant_sarcasticos,total)\n",
    "\n",
    "sub_reddits_no_sarcas = list()\n",
    "sub_reddits_sarcas = list()\n",
    "for subr in sub_reddits:\n",
    "    pns = subr[1][0]/(subr[1][0] + subr[1][1])\n",
    "    ps = subr[1][1]/(subr[1][0] + subr[1][1])\n",
    "    pns = round((pns*100),2)\n",
    "    ps = round((ps*100),2)\n",
    "    sub_reddits_no_sarcas.append((pns, subr[0],subr[1][0],subr[1][1],subr[1][0]+subr[1][1]))\n",
    "    sub_reddits_sarcas.append((ps, subr[0],subr[1][0],subr[1][1],subr[1][0]+subr[1][1]))\n",
    "# Se ordena de menor a mayor según la propabilidad\n",
    "sub_reddits_no_sarcas.sort(reverse=True)\n",
    "sub_reddits_sarcas.sort(reverse = True)"
   ]
  },
  {
   "cell_type": "markdown",
   "metadata": {},
   "source": [
    "## RESPUESTA b):"
   ]
  },
  {
   "cell_type": "code",
   "execution_count": 3,
   "metadata": {},
   "outputs": [
    {
     "name": "stdout",
     "output_type": "stream",
     "text": [
      "(77.24, 'Games', 1035, 305, 1340)\n",
      "(78.44, 'creepyPMs', 1178, 4287, 5465)\n"
     ]
    }
   ],
   "source": [
    "print(sub_reddits_no_sarcas[0])\n",
    "print(sub_reddits_sarcas[0])"
   ]
  },
  {
   "cell_type": "markdown",
   "metadata": {},
   "source": [
    "### Tabla de los datos:\n",
    "\n",
    "Subreddit | Porcentaje | Comentarios No Sarcásticos | Comentarios Sarcásticos | Total Comentarios |\n",
    " --- | --- | --- | --- | --- |\n",
    "**Games** | 77.24 | 1035 | 305 | 1340 |\n",
    "**creepyPMs** | 78.44 | 1178 | 4287 | 5465 |"
   ]
  },
  {
   "cell_type": "markdown",
   "metadata": {},
   "source": [
    ">Se puede observar que en el subreddit <b>Games</b> predominan los comentarios no sarcásticos, mientras que en <b>creepyPMs</b> predominan los sarcásticos.\n",
    "\n",
    ">Se utilizó un filtro de los subreddits que tienen menos de 1000 comentarios en el archivo, para que exista una mejor comparación entre los porcentajes de ambos tipos de comentarios, pues en los subreddits que no tienen tantos comentarios, uno de ellos pesa mucho más que en los subreddits que tienen una gran cantidad de comentarios."
   ]
  },
  {
   "cell_type": "markdown",
   "metadata": {},
   "source": [
    ">c) Realice un top 10 con los subreddits que más se repiten en la etiqueta sin sarcasmo y un top 10 de los que más se repiten en la etiqueta con sarcasmo. ¿Existen similitudes/diferencias en ambas listas? ¿A qué se puede deber esto?"
   ]
  },
  {
   "cell_type": "markdown",
   "metadata": {},
   "source": [
    "## CÓDIGO c):"
   ]
  },
  {
   "cell_type": "code",
   "execution_count": 4,
   "metadata": {},
   "outputs": [],
   "source": [
    "subr_ns = list()\n",
    "subr_s = list()\n",
    "for subr in dic_sub.items():\n",
    "    subr_ns.append((subr[1][0], subr[0]))\n",
    "    subr_s.append((subr[1][1], subr[0]))\n",
    "subr_ns.sort(reverse = True)\n",
    "subr_s.sort(reverse = True)"
   ]
  },
  {
   "cell_type": "markdown",
   "metadata": {},
   "source": [
    "## RESPUESTA c) :"
   ]
  },
  {
   "cell_type": "code",
   "execution_count": 5,
   "metadata": {},
   "outputs": [
    {
     "name": "stdout",
     "output_type": "stream",
     "text": [
      "TOP 10 no_sarcastico\n",
      "1 .  AskReddit   39309\n",
      "2 .  politics   15585\n",
      "3 .  funny   9839\n",
      "4 .  leagueoflegends   9627\n",
      "5 .  worldnews   9428\n",
      "6 .  pics   8328\n",
      "7 .  pcmasterrace   8227\n",
      "8 .  nfl   6934\n",
      "9 .  news   6697\n",
      "10 .  nba   6697\n",
      "\n",
      "\n",
      "TOP 10 sarcasticos\n",
      "1 .  AskReddit   26367\n",
      "2 .  politics   23910\n",
      "3 .  worldnews   16948\n",
      "4 .  leagueoflegends   11409\n",
      "5 .  pcmasterrace   10760\n",
      "6 .  news   10193\n",
      "7 .  funny   8099\n",
      "8 .  pics   7825\n",
      "9 .  todayilearned   7754\n",
      "10 .  GlobalOffensive   7586\n"
     ]
    }
   ],
   "source": [
    "print(\"TOP 10 no_sarcastico\")\n",
    "n = 1\n",
    "# Se escoge solo los primeros 10 subreddits de ambas listas\n",
    "for ns in subr_ns[:10]:\n",
    "    print(n , \". \" , ns[1], \" \" , ns[0])\n",
    "    n += 1\n",
    "print(\"\\n\")\n",
    "n = 1\n",
    "print(\"TOP 10 sarcasticos\")\n",
    "for s in subr_s[:10]:\n",
    "    print(n , \". \" , s[1], \" \" , s[0])\n",
    "    n += 1"
   ]
  },
  {
   "cell_type": "markdown",
   "metadata": {},
   "source": [
    "> Las listas son muy similares, existen 8 subreddits que pertenecen a ambas listas. Esto se puede deber a que estos subreddits tienen una gran cantidad de comentarios, por lo que se generan una mayor cantidad de comentarios, tanto sarcásticos como no sarcásticos"
   ]
  },
  {
   "cell_type": "markdown",
   "metadata": {},
   "source": [
    ">d) Construya una línea de tiempo (use la columna que estime más conveniente como eje de tiempo) y coloree los datos según su etiqueta de sarcasmo, comente lo que observa.\n",
    "\n",
    "*Consejo: puede agrupar comentarios y contar el total que se registra en ese momento del tiempo en vez de graficar cada comentario en la línea.*"
   ]
  },
  {
   "cell_type": "markdown",
   "metadata": {},
   "source": [
    "## CÓDIGO d) :"
   ]
  },
  {
   "cell_type": "code",
   "execution_count": 6,
   "metadata": {},
   "outputs": [
    {
     "data": {
      "text/plain": [
       "<Figure size 640x480 with 1 Axes>"
      ]
     },
     "metadata": {},
     "output_type": "display_data"
    }
   ],
   "source": [
    "import matplotlib.pyplot as plt\n",
    "import numpy as np\n",
    "\n",
    "width = 0.8\n",
    "sarcs = list()\n",
    "no_sarcs = list()\n",
    "\n",
    "# Se separa en sarcasticos y no sarcasticos en listas.\n",
    "\n",
    "for item in cont_yr.values():\n",
    "    no_sarcs.append(item[0])\n",
    "    sarcs.append(item[1])\n",
    "sarcs.reverse()\n",
    "no_sarcs.reverse()\n",
    "\n",
    "indices = list(cont_yr.keys())\n",
    "indices.reverse()\n",
    "for i in range(len(indices)):\n",
    "    indices[i] = int(indices[i])\n",
    "\n",
    "plt.bar(indices, sarcs, width=0.55, color='b', label='Sarcasticos')\n",
    "plt.bar(indices, no_sarcs, width=0.4, color='r', alpha=0.7, label='No sarcasticos')\n",
    "\n",
    "plt.legend()\n",
    "plt.show()"
   ]
  },
  {
   "cell_type": "markdown",
   "metadata": {},
   "source": [
    "## RESPUESTA d) :"
   ]
  },
  {
   "cell_type": "markdown",
   "metadata": {},
   "source": [
    "> En el gráfico, se puede observar que en cada año ha ido aumentando exponencialmente la cantidad de comentarios en Reddit. Además, la cantidad de comentarios sarcásticos y no sarcásticos han ido creciendo de manera casi pareja. A excepción del año 2016, en todos los años la cantidad de comentarios sarcásticos ha sido levemente mayor a la cantidad de comentarios no sarcásticos."
   ]
  },
  {
   "cell_type": "markdown",
   "metadata": {},
   "source": [
    ">e) Haga un histograma y boxplot de los puntajes de comentarios sarcásticos y no sarcásticos, comparelos y concluya a partir de lo que observa, puede agregar otro tipo de gráficos si desea para apoyar su conclusión."
   ]
  },
  {
   "cell_type": "markdown",
   "metadata": {},
   "source": [
    "## CÓDIGO e) :"
   ]
  },
  {
   "cell_type": "code",
   "execution_count": 7,
   "metadata": {},
   "outputs": [],
   "source": [
    "import csv\n",
    "import math\n",
    "scores_ns = list()\n",
    "scores_s = list()\n",
    "a = 1\n",
    "total_ns = 0\n",
    "total_s = 0\n",
    "\n",
    "# Se lee y se separan en listas los puntajes de comentarios sarcásticos de los no sarcásticos.\n",
    "\n",
    "with open('reddit.csv', newline='') as File:  \n",
    "    reader = csv.reader(File)\n",
    "    for row in reader:\n",
    "        if a != 1 and int(row[0]) == 0:\n",
    "            scores_ns.append(int(row[4]))\n",
    "            total_ns += 1\n",
    "        elif a != 1 and int(row[0]) == 1:\n",
    "            scores_s.append(int(row[4]))\n",
    "            total_s += 1\n",
    "        a = 2\n",
    "scores_ns.sort()\n",
    "scores_s.sort()"
   ]
  },
  {
   "cell_type": "code",
   "execution_count": 8,
   "metadata": {},
   "outputs": [
    {
     "name": "stdout",
     "output_type": "stream",
     "text": [
      "HISTOGRAMA 1 :\n"
     ]
    },
    {
     "data": {
      "image/png": "[encoded data removed]",
      "text/plain": [
       "<Figure size 432x288 with 1 Axes>"
      ]
     },
     "metadata": {
      "needs_background": "light"
     },
     "output_type": "display_data"
    }
   ],
   "source": [
    "import matplotlib.pyplot as plt \n",
    "k = round(math.log(total_ns,2) + 1)\n",
    "R = max(scores_ns) - min(scores_ns)\n",
    "A = R/k\n",
    "print(\"HISTOGRAMA 1 :\")\n",
    "plt.hist(scores_ns,bins = k, rwidth = A)\n",
    "plt.show()"
   ]
  },
  {
   "cell_type": "markdown",
   "metadata": {},
   "source": [
    "## Tabla de comentarios no sarcásticos según intervalos de puntajes:\n",
    "Intervalo | Cantidad |\n",
    " --- | --- |\n",
    "**[-289, 7.8]** | 431.226 |\n",
    "**(7.8, 313.6]** | 73.016 |\n",
    "**(313.6, 619.4]** | 669 |\n",
    "**(619.4, 925.2]** | 221 |\n",
    "**(925.2, 1231]** | 107 |\n",
    "**(1231, 1536.8]** | 52 |\n",
    "**(1536.8, 1842.6]** | 30 |\n",
    "**(1842.6, 2148.4]** | 11 |\n",
    "**(2148.4, 2454.2]** | 15 |\n",
    "**(2452.2, 2760]** | 11 |\n",
    "**(2760, 3065.8]** | 11 |\n",
    "**(3065.8, 3371.6]** | 5 |\n",
    "**(3371.6, 3677.4]** | 4 |\n",
    "**(3667.4, 3983.2]** | 7 |\n",
    "**(3983.2, 4289]** | 5 |\n",
    "**(4289, 4594.8]** | 0 |\n",
    "**(4594.8, 4900.6]** | 3 |\n",
    "**(4900.6, 5206.4]** | 1 |\n",
    "**(5206.4, 5512.2]** | 0 |"
   ]
  },
  {
   "cell_type": "code",
   "execution_count": 9,
   "metadata": {},
   "outputs": [
    {
     "name": "stdout",
     "output_type": "stream",
     "text": [
      "HISTOGRAMA 2\n"
     ]
    },
    {
     "data": {
      "image/png": "[encoded data removed]",
      "text/plain": [
       "<Figure size 432x288 with 1 Axes>"
      ]
     },
     "metadata": {
      "needs_background": "light"
     },
     "output_type": "display_data"
    }
   ],
   "source": [
    "k = round(math.log(total_ns,2) + 1)\n",
    "R = max(scores_s) - min(scores_s)\n",
    "A = R/k\n",
    "print(\"HISTOGRAMA 2\")\n",
    "plt.hist(scores_s,bins = k, rwidth = A)\n",
    "plt.show()"
   ]
  },
  {
   "cell_type": "markdown",
   "metadata": {},
   "source": [
    "## Tabla de comentarios sarcásticos según el intervalo de puntajes:\n",
    "\n",
    "Intervalo | Cantidad |\n",
    " --- | --- |\n",
    "**[-507, -28.1]** | 804 |\n",
    "**(-28.1, 450.7]** | 504.231 |\n",
    "**(450.7, 929.6]** | 274 |\n",
    "**(929.6, 1408.4]** | 65 |\n",
    "**(1408.4, 1887.3]** | 26 |\n",
    "**(1887.3, 2366.1]** | 10 |\n",
    "**(2366.1, 2845]** | 5 |\n",
    "**(2845, 3323.8]** | 3 |\n",
    "**(3323.8, 3802.6]** | 1 |\n",
    "**(3802.6, 4281.5]** | 0 |\n",
    "**(4281.5, 4760.4]** | 0 |\n",
    "**(4760.4, 5239.2]** | 0 |"
   ]
  },
  {
   "cell_type": "code",
   "execution_count": 10,
   "metadata": {},
   "outputs": [
    {
     "name": "stdout",
     "output_type": "stream",
     "text": [
      "Consideración: Para analizar los boxplots, se tuvo que eliminar outliers, sino los gráficos se hacían ilegibles.\n"
     ]
    },
    {
     "data": {
      "image/png": "[encoded data removed]",
      "text/plain": [
       "<Figure size 432x288 with 1 Axes>"
      ]
     },
     "metadata": {
      "needs_background": "light"
     },
     "output_type": "display_data"
    }
   ],
   "source": [
    "data = [scores_ns, scores_s]\n",
    "fig7, ax7 = plt.subplots()\n",
    "print(\"Consideración: Para analizar los boxplots, se tuvo que eliminar outliers, sino los gráficos se hacían ilegibles.\")\n",
    "ax7.set_title(\"Puntajes de subreddits\")\n",
    "ax7.boxplot(data, sym = '', labels = [\"No sarcásticos\", \"Sarcásticos\"])\n",
    "\n",
    "plt.show()"
   ]
  },
  {
   "cell_type": "markdown",
   "metadata": {},
   "source": [
    "## RESPUESTA e) :"
   ]
  },
  {
   "cell_type": "markdown",
   "metadata": {},
   "source": [
    "> Comparando ambos histogramas, se observa una similitud en un significante sesgo negativo donde el 99% de los datos se encuentra cercana a los intervalos donde existe puntajes negativos no tan bajos y puntajes positivos no tan altos. Para el histograma 1  el 85% de los datos se encuentran en el intervalo [-289,7.8], mientras que para el histograma 2 el 99% de los datos se encuentra en el intervalo (-28.1,450.7]. Analizando los boxplots, nos podemos dar cuenta que en los comentarios sarcásticos existe una mayor dispersión de los datos que el boxplot de los comentarios no sarcásticos. No existe una diferencia significativa entre la mediana de ambos boxplots, esto corrobora que los datos se concentran en ambos casos en torno al mismo intervalo."
   ]
  },
  {
   "cell_type": "markdown",
   "metadata": {},
   "source": [
    "## 2. Simulaciones \n",
    "\n",
    "Una de las gracias de tener una máquina con alta capacidad de cómputo es el poder realizar simulaciones. Las simulaciones nos permiten recrear experimentos que requieren una gran cantidad de datos, por ejemplo, lanzar un dado 10000 veces y determinar las probabilidades de cada resultado posible.\n",
    "\n",
    "\n",
    "### 2.1 Lanzamiento de Agujas (30p)\n",
    "\n",
    "Imagine que tiene un puñado de agujas ($n$ agujas) y las lanza al aire, estas agujas caen aleatoriamente dentro de un espacio de 20x20 unidades (asuma que la aguja puede quedar con una parte afuera y otra adentro si cae en alguno de los bordes/cerca de un borde de este espacio), este espacio tiene líneas horizontales cada 1 unidad en el eje Y, obviando los bordes inferior y superior de este espacio, usted está interesado en determinar la probabilidad de que una aguja atraviese cualquiera de estas líneas horizontales, para ello ha decidido simular este experimento utilizando el centroide de la aguja (posición donde cae) y el ángulo medido respecto a la horizontal que atraviesa el centroide $\\alpha$ (ver imagen)\n",
    "\n",
    "<img src=\"img/aguja.png\" style=\"float:center;height:100px\">\n",
    "\n",
    "El largo de la aguja es el mismo que la separación entre las lineas horizontales (1 unidad)\n",
    "\n",
    "\n",
    "Calcule la probabilidad utilizando $n =10,100,1000,10000,100000$ agujas\n",
    "\n",
    "Puntos bonus por :\n",
    "* (5) Probar con tamaños distintos del espacio y concluir comparando con los otros casos\n",
    "* (5) Añadir 1 gráfico por cada $n$ donde se vea el espacio y las agujas después de caer, recuerde hacer un comentario respecto al gráfico, no solo incluirlo."
   ]
  },
  {
   "cell_type": "markdown",
   "metadata": {},
   "source": [
    "## - CÓDIGO :\n",
    "\n",
    "#### Explicación :\n",
    "> Lsdlald"
   ]
  },
  {
   "cell_type": "code",
   "execution_count": 11,
   "metadata": {},
   "outputs": [],
   "source": [
    "import random, time, math\n",
    "#La siguiente funcion simula el experimento\n",
    "def simular_agujas(repeticiones,espacio):\n",
    "    random.seed(time.time()) #Una semilla para numeros random\n",
    "    atrav = list() #Lista de agujas que atraviesan una linea\n",
    "    n = 1\n",
    "    flag = False # Falso si el angulo es menor a 90, Verdadero si es mayor a 90\n",
    "    while n <= repeticiones:\n",
    "        pos_x = round(random.uniform(0,espacio),1) #Un numero con una cifra decimal, entre 0 y el espacio.\n",
    "        pos_y = round(random.uniform(0,espacio),1) #Un numero con una cifra decimal, entre 0 y el espacio.\n",
    "        angulo = random.randint(0,179) #Un angulo de 0 a 179\n",
    "        if angulo > 90:\n",
    "            angulo = 180 - angulo #Esta operacion para aprovechar la propiedad del seno: \"sen(180-ang) = sen(ang)\"\n",
    "            flag = True\n",
    "        limsup_y = round((pos_y + (0.5 * math.sin(angulo*math.pi/180))),2) #Calcula el extremo superior de la aguja\n",
    "        liminf_y = round((pos_y - (0.5 * math.sin(angulo*math.pi/180))),2) #Calcula el extremo inferior de la aguja\n",
    "        if (pos_y*10)%10 == 0 and angulo == 0:\n",
    "            if flag:\n",
    "                atrav.append((n,pos_x,pos_y, 180 - angulo))\n",
    "                flag = False\n",
    "            else:\n",
    "                atrav.append((n,pos_x,pos_y, angulo))\n",
    "                flag = False\n",
    "        elif (math.trunc(limsup_y) - math.trunc(liminf_y)) == 1 :\n",
    "            #Si la diferencia de los enteros de los extremos es uno, significa que lo atraviesa.\n",
    "            if flag:\n",
    "                atrav.append((n,pos_x,pos_y, 180 - angulo))\n",
    "                flag = False\n",
    "            else:\n",
    "                atrav.append((n,pos_x,pos_y, angulo))\n",
    "                flag = False\n",
    "        n += 1\n",
    "    return(round((len(atrav)/n)*100,1))"
   ]
  },
  {
   "cell_type": "markdown",
   "metadata": {},
   "source": [
    "## - SIMULACIÓN :  \n",
    "### * Espacio 20x20 :"
   ]
  },
  {
   "cell_type": "code",
   "execution_count": 12,
   "metadata": {},
   "outputs": [
    {
     "name": "stdout",
     "output_type": "stream",
     "text": [
      "La probabilidad con 10 agujas en un espacio de 20x20 es de:  63.6\n"
     ]
    }
   ],
   "source": [
    "print(\"La probabilidad con 10 agujas en un espacio de 20x20 es de: \", simular_agujas(10,20))"
   ]
  },
  {
   "cell_type": "code",
   "execution_count": 13,
   "metadata": {},
   "outputs": [
    {
     "name": "stdout",
     "output_type": "stream",
     "text": [
      "La probabilidad con 100 agujas en un espacio de 20x20 es de:  64.4\n"
     ]
    }
   ],
   "source": [
    "print(\"La probabilidad con 100 agujas en un espacio de 20x20 es de: \", simular_agujas(100,20))"
   ]
  },
  {
   "cell_type": "code",
   "execution_count": 14,
   "metadata": {},
   "outputs": [
    {
     "name": "stdout",
     "output_type": "stream",
     "text": [
      "La probabilidad con 1000 agujas en un espacio de 20x20 es de:  60.4\n"
     ]
    }
   ],
   "source": [
    "print(\"La probabilidad con 1000 agujas en un espacio de 20x20 es de: \", simular_agujas(1000,20))"
   ]
  },
  {
   "cell_type": "code",
   "execution_count": 15,
   "metadata": {},
   "outputs": [
    {
     "name": "stdout",
     "output_type": "stream",
     "text": [
      "La probabilidad con 10000 agujas en un espacio de 20x20 es de:  61.4\n"
     ]
    }
   ],
   "source": [
    "print(\"La probabilidad con 10000 agujas en un espacio de 20x20 es de: \", simular_agujas(10000,20))"
   ]
  },
  {
   "cell_type": "code",
   "execution_count": 16,
   "metadata": {},
   "outputs": [
    {
     "name": "stdout",
     "output_type": "stream",
     "text": [
      "La probabilidad con 100000 agujas en un espacio de 20x20 es de:  61.2\n"
     ]
    }
   ],
   "source": [
    "print(\"La probabilidad con 100000 agujas en un espacio de 20x20 es de: \", simular_agujas(100000,20))"
   ]
  },
  {
   "cell_type": "markdown",
   "metadata": {},
   "source": [
    "### * Espacio 50x50 :"
   ]
  },
  {
   "cell_type": "code",
   "execution_count": 17,
   "metadata": {},
   "outputs": [
    {
     "name": "stdout",
     "output_type": "stream",
     "text": [
      "La probabilidad con 10 agujas es en un espacio de 50x50 de:  45.5\n"
     ]
    }
   ],
   "source": [
    "print(\"La probabilidad con 10 agujas es en un espacio de 50x50 de: \", simular_agujas(10,50))"
   ]
  },
  {
   "cell_type": "code",
   "execution_count": 18,
   "metadata": {},
   "outputs": [
    {
     "name": "stdout",
     "output_type": "stream",
     "text": [
      "La probabilidad con 100 agujas en un espacio de 50x50 es de:  55.4\n"
     ]
    }
   ],
   "source": [
    "print(\"La probabilidad con 100 agujas en un espacio de 50x50 es de: \", simular_agujas(100,50))"
   ]
  },
  {
   "cell_type": "code",
   "execution_count": 19,
   "metadata": {},
   "outputs": [
    {
     "name": "stdout",
     "output_type": "stream",
     "text": [
      "La probabilidad con 1000 agujas en un espacio de 50x50 es de:  62.2\n"
     ]
    }
   ],
   "source": [
    "print(\"La probabilidad con 1000 agujas en un espacio de 50x50 es de: \", simular_agujas(1000,50))"
   ]
  },
  {
   "cell_type": "code",
   "execution_count": 20,
   "metadata": {},
   "outputs": [
    {
     "name": "stdout",
     "output_type": "stream",
     "text": [
      "La probabilidad con 10000 agujas en un espacio de 50x50 es de:  62.5\n"
     ]
    }
   ],
   "source": [
    "print(\"La probabilidad con 10000 agujas en un espacio de 50x50 es de: \", simular_agujas(10000,50))"
   ]
  },
  {
   "cell_type": "code",
   "execution_count": 21,
   "metadata": {},
   "outputs": [
    {
     "name": "stdout",
     "output_type": "stream",
     "text": [
      "La probabilidad con 100000 agujas en un espacio de 50x50 es de:  62.6\n"
     ]
    }
   ],
   "source": [
    "print(\"La probabilidad con 100000 agujas en un espacio de 50x50 es de: \", simular_agujas(100000,50))"
   ]
  },
  {
   "cell_type": "markdown",
   "metadata": {},
   "source": [
    "### * Espacio 100x100 :"
   ]
  },
  {
   "cell_type": "code",
   "execution_count": 22,
   "metadata": {},
   "outputs": [
    {
     "name": "stdout",
     "output_type": "stream",
     "text": [
      "La probabilidad con 10 agujas en un espacio de 100x100 es de:  63.6\n"
     ]
    }
   ],
   "source": [
    "print(\"La probabilidad con 10 agujas en un espacio de 100x100 es de: \", simular_agujas(10,100))"
   ]
  },
  {
   "cell_type": "code",
   "execution_count": 23,
   "metadata": {},
   "outputs": [
    {
     "name": "stdout",
     "output_type": "stream",
     "text": [
      "La probabilidad con 100 agujas en un espacio de 100x100 es de:  59.4\n"
     ]
    }
   ],
   "source": [
    "print(\"La probabilidad con 100 agujas en un espacio de 100x100 es de: \", simular_agujas(100,100))"
   ]
  },
  {
   "cell_type": "code",
   "execution_count": 24,
   "metadata": {},
   "outputs": [
    {
     "name": "stdout",
     "output_type": "stream",
     "text": [
      "La probabilidad con 1000 agujas en un espacio de 100x100 es de:  61.4\n"
     ]
    }
   ],
   "source": [
    "print(\"La probabilidad con 1000 agujas en un espacio de 100x100 es de: \", simular_agujas(1000,100))"
   ]
  },
  {
   "cell_type": "code",
   "execution_count": 25,
   "metadata": {},
   "outputs": [
    {
     "name": "stdout",
     "output_type": "stream",
     "text": [
      "La probabilidad con 10000 agujas en un espacio de 100x100 es de:  62.1\n"
     ]
    }
   ],
   "source": [
    "print(\"La probabilidad con 10000 agujas en un espacio de 100x100 es de: \", simular_agujas(10000,100))"
   ]
  },
  {
   "cell_type": "code",
   "execution_count": 26,
   "metadata": {},
   "outputs": [
    {
     "name": "stdout",
     "output_type": "stream",
     "text": [
      "La probabilidad con 100000 agujas en un espacio de 100x100 es de:  62.6\n"
     ]
    }
   ],
   "source": [
    "print(\"La probabilidad con 100000 agujas en un espacio de 100x100 es de: \", simular_agujas(100000,100))"
   ]
  },
  {
   "cell_type": "markdown",
   "metadata": {},
   "source": [
    "## Tabla de las simulaciones :\n",
    "\n",
    "> Evento A : Una aguja cruza una línea horizontal.\n",
    "\n",
    "#### Espacio de 20x20 :\n",
    "\n",
    "nº lanzamientos | P(A) % |\n",
    " --- | --- |\n",
    "**10** | 63.6 |\n",
    "**100** | 64.4 |\n",
    "**1000** | 60.4 |\n",
    "**10000** | 61.4 |\n",
    "**100000** | 61.2 |\n",
    "\n",
    "#### Espacio de 50x50 :\n",
    "\n",
    "nº lanzamientos | P(A) % |\n",
    " --- | --- |\n",
    "**10** | 45.5 |\n",
    "**100** | 55.4 |\n",
    "**1000** | 62.2 |\n",
    "**10000** | 62.5 |\n",
    "**100000** | 62.6 |\n",
    "\n",
    "#### Espacio de 100x100 :\n",
    "\n",
    "nº lanzamientos | P(A) % |\n",
    " --- | --- |\n",
    "**10** | 63.6 |\n",
    "**100** | 59.4 |\n",
    "**1000** | 61.4 |\n",
    "**10000** | 62.1 |\n",
    "**100000** | 62.6 |"
   ]
  },
  {
   "cell_type": "markdown",
   "metadata": {},
   "source": [
    "> En conclusión, el cambio de espacio de la simulación no altera la probabilidad de que las agujas traspasen una línea horizontal, es decir, el la probabilidad del evento A es independiente del espacio. Cabe destacar que este experimento llamado aguja de Buffon es un problema para encontrar un valor aproximado de pi. Cuando más aumenta el n de agujas, la probabilidad de que ocurra el evento A,se acerca más al resultado de 2/pi."
   ]
  },
  {
   "cell_type": "markdown",
   "metadata": {},
   "source": [
    "### 2.2 Cadenas de Markov (40p)\n",
    "\n",
    "Las cadenas de markov son un modelo estocástico para describir una secuencia de sucesos donde la probabilidad de ir a un estado siguiente depende solamente del estado actual, esto se puede modelar de la siguiente forma:\n",
    "\n",
    "$$ S_{n+1} = S_{n}\\cdot P$$\n",
    "\n",
    "Donde $P$ se conoce como matriz de transición y $S_{i}$ las matrices de estado ($S_{0}$ es conocida). Una cadena de markov se dice regular si su matriz de transición es regular, esto quiere decir que alguna potencia de $P$ tiene todas sus entradas positivas (para este caso 0 no es positivo).\n",
    "\n",
    "Si se tiene una cadena de markov regular, en algún momento de la secuencia se encontrará una matriz de estado tal que:\n",
    "\n",
    "$$ S_{f} \\cdot P = S_{f}$$ \n",
    "\n",
    "A esta matriz $S_{f}$ se le conoce como matriz estacionaria.\n",
    "\n",
    "Si desea profundizar más:\n",
    "- [MC 1](https://www.youtube.com/watch?v=uvYTGEZQTEs)\n",
    "- [MC 2](https://www.youtube.com/watch?v=jtHBfLtMq4U)\n",
    "- [MC 3](https://www.youtube.com/watch?v=P8DuuiINAo4&t)\n",
    "- [MC 4](https://www.youtube.com/watch?v=31X-M4okAI0)\n",
    "- [MC 5](https://www.youtube.com/watch?v=-kwnnNSGFMc)\n",
    "\n",
    "\n",
    "**Enunciado**\n",
    "\n",
    "Tres compañías de comida rápida están compitiendo por el primer lugar en la supremacía de comida rápida. \n",
    "\n",
    "* Si un cliente originalmente es fiel a \"Sansafood\" tiene un $65\\%$ de probabilidad de quedarse fiel a esta, un $20\\%$ de cambiarse a \"LDS ltda\" y un $15\\%$ de cambiarse a \"Wenzi's\".\n",
    "\n",
    "* Si un cliente originalmente es fiel a \"LDS ltda\" tiene un $40\\%$ de probabilidad de quedarse fiel a esta, un $30\\%$ de cambiarse a \"Sansafood\" y un $30\\%$ de cambiarse a \"Wenzi's\".\n",
    "\n",
    "* Si un cliente originalmente es fiel a \"Wenzi's\" tiene un $70\\%$ de probabilidad de quedarse fiel a esta, un $10\\%$ de cambiarse a \"Sansafood\" y un $20\\%$ de cambiarse a \"LDS ltda\".\n",
    "\n",
    "En un comienzo 200 clientes pertenecen a \"Sansafood\", 180 a \"LDS ltda\" y 20 a \"Wenzi's\".\n",
    "\n",
    ">a) Identifique la matriz de transición y la matriz de estado inicial"
   ]
  },
  {
   "cell_type": "markdown",
   "metadata": {},
   "source": [
    "## RESPUESTA a):\n",
    "\n",
    "#### Matriz transición:\n",
    "\n",
    "------- | Sansafood | LDS ltda | Wenzi's\n",
    " --- | --- | --- | ---\n",
    "**Sansafood** | 0.65 | 0.2 | 0.15\n",
    "**LDS ltda** | 0.3 | 0.4 | 0.3\n",
    "**Wenzi's** | 0.1 | 0.2 | 0.7\n",
    "\n",
    "#### Matriz inicial:\n",
    "\n",
    "------- |  |\n",
    " --- | --- |\n",
    "**Sansafood** | 0.5 |\n",
    "**LDS ltda** | 0.45 |\n",
    "**Wenzi's** | 0.05 |\n",
    "    \n",
    "\n",
    "    "
   ]
  },
  {
   "cell_type": "markdown",
   "metadata": {},
   "source": [
    ">**O:** b) Haga un diagrama de transición "
   ]
  },
  {
   "cell_type": "markdown",
   "metadata": {},
   "source": [
    "## RESPUESTA b):\n",
    "\n",
    "<img src=\"img/Diagrama.png\" style=\"float:center;height:600px\">"
   ]
  },
  {
   "cell_type": "markdown",
   "metadata": {},
   "source": [
    ">**O:** c) ¿Este problema es un caso de una cadena de markov regular? ¿Por qué?"
   ]
  },
  {
   "cell_type": "markdown",
   "metadata": {},
   "source": [
    "## RESPUESTA c) :\n",
    "\n",
    "> Corresponde a un caso de markov regular, pues los números de las matríces son mayores a 0. Si hubiese algún número que fuese menor o igual a 0, ya no sería un caso de markov regular."
   ]
  },
  {
   "cell_type": "markdown",
   "metadata": {},
   "source": [
    ">d) ¿Existirá la matriz estacionaria en este caso? Si su respuesta es sí, obténgala."
   ]
  },
  {
   "cell_type": "markdown",
   "metadata": {},
   "source": [
    "## RESPUESTA d):\n",
    "\n",
    "> Tiene matriz estacionaria, pues el problema corresponde a un caso de markov."
   ]
  },
  {
   "cell_type": "markdown",
   "metadata": {},
   "source": [
    "## - CÓDIGO d):"
   ]
  },
  {
   "cell_type": "code",
   "execution_count": 27,
   "metadata": {},
   "outputs": [
    {
     "name": "stdout",
     "output_type": "stream",
     "text": [
      "Resultado del código:\n",
      "\n",
      "[0.33333333 0.25       0.41666667]\n"
     ]
    }
   ],
   "source": [
    "import numpy as np\n",
    "import pandas as pd\n",
    "\n",
    "# Se utiliza la fórmula descrita en el enunciado para encontrar la matriz estacionaria\n",
    "# Se multiplica la matriz_transicion con la matriz_nueva\n",
    "# hasta que la matriz_anterior sea igual a la nueva_matriz.\n",
    "\n",
    "def matriz_estacionaria(matriz_transicion,matriz_estado_inicial) :\n",
    "    Encontrada = False\n",
    "    matriz_anterior = matriz_estado_inicial\n",
    "    while not Encontrada:\n",
    "        nueva_matriz = np.dot(matriz_anterior,matriz_transicion)\n",
    "        if (matriz_anterior == nueva_matriz).all():\n",
    "            Encontrada = True\n",
    "        else:\n",
    "            matriz_anterior = nueva_matriz\n",
    "    return matriz_anterior\n",
    "\n",
    "matriz_transicion = np.array([[0.65,0.2,0.15],[0.3,0.4,0.3],[0.1,0.2,0.7]])\n",
    "matriz_estado_inicial = np.array([0.5,0.45,0.05])\n",
    "print (\"Resultado del código:\\n\")\n",
    "print(matriz_estacionaria(matriz_transicion,matriz_estado_inicial))"
   ]
  },
  {
   "cell_type": "markdown",
   "metadata": {},
   "source": [
    "#### La matriz estacionaria es la siguiente:\n",
    "\n",
    "------- |  |\n",
    " --- | --- |\n",
    "**Sansafood** | 0.33333333 |\n",
    "**LDS ltda** | 0.25 |\n",
    "**Wenzi's** | 0.41666667 |"
   ]
  },
  {
   "cell_type": "markdown",
   "metadata": {},
   "source": [
    ">e) Después de pasado mucho tiempo. ¿Quién tendrá una mayor cantidad de clientes? Asuma que la matriz de transición será válida por todo este periodo arbitrario de tiempo y no llegarán ni saldrán más clientes del mundo de comida rápida. **No realice esta simulación como una multiplicación de matrices**, use las probabilidades y las cantidades dadas. Compare con d) "
   ]
  },
  {
   "cell_type": "markdown",
   "metadata": {},
   "source": [
    "## CÓDIGO e):"
   ]
  },
  {
   "cell_type": "code",
   "execution_count": 28,
   "metadata": {},
   "outputs": [
    {
     "name": "stdout",
     "output_type": "stream",
     "text": [
      "[[0.3225 0.285  0.3925]]\n"
     ]
    }
   ],
   "source": [
    "matriz_inicial = np.array([[200,180,20]])\n",
    "\n",
    "def sansafood(matriz_inicial):\n",
    "    personas = {\"Sansafood\":0,\"LDS ltda\":0,\"Wenzis\":0}\n",
    "    for i in range(matriz_inicial[0][0]):\n",
    "        x = np.random.choice([\"Sansafood\",\"LDS ltda\",\"Wenzis\"], p = [0.65,0.2,0.15])\n",
    "        personas[x] += 1\n",
    "    return personas\n",
    "def lds_ltda(matriz_inicial):\n",
    "    personas = {\"Sansafood\":0,\"LDS ltda\":0,\"Wenzis\":0}\n",
    "    for i in range(matriz_inicial[0][1]):\n",
    "        x = np.random.choice([\"Sansafood\",\"LDS ltda\",\"Wenzis\"], p = [0.3,0.4,0.3])\n",
    "        personas[x] += 1\n",
    "    return personas\n",
    "def wenzis(matriz_inicial):\n",
    "    personas = {\"Sansafood\":0,\"LDS ltda\":0,\"Wenzis\":0}\n",
    "    for i in range(matriz_inicial[0][2]):\n",
    "        x = np.random.choice([\"Sansafood\",\"LDS ltda\",\"Wenzis\"], p = [0.1,0.2,0.7])\n",
    "        personas[x] += 1\n",
    "    return personas\n",
    "for i in range(500):\n",
    "    columna1 = sansafood(matriz_inicial)\n",
    "    columna2 = lds_ltda(matriz_inicial)\n",
    "    columna3 = wenzis(matriz_inicial)\n",
    "    matriz_inicial[0][0] = columna1[\"Sansafood\"] + columna2[\"Sansafood\"] + columna3[\"Sansafood\"]\n",
    "    matriz_inicial[0][1] = columna1[\"LDS ltda\"] + columna2[\"LDS ltda\"] + columna3[\"LDS ltda\"]\n",
    "    matriz_inicial[0][2] = columna1[\"Wenzis\"] + columna2[\"Wenzis\"] + columna3[\"Wenzis\"]\n",
    "print(matriz_inicial/400)"
   ]
  },
  {
   "cell_type": "markdown",
   "metadata": {},
   "source": [
    "## RESPUESTA e) :"
   ]
  },
  {
   "cell_type": "markdown",
   "metadata": {},
   "source": [
    "> Se realiza una simulación con 500 iteraciones, donde cada iteración puede representar un día. La **matriz** encontrada es la siguiente:\n",
    "\n",
    "------- | Probabilidades |\n",
    " --- | --- |\n",
    "**Sansafood** | 0.35 |\n",
    "**LDS ltda** | 0.2275 |\n",
    "**Wenzi's** | 0.4225 |\n",
    "\n",
    "> En comparación con la matriz d), se asemejan bastante, entonces se puede decir que en la realidad, después de un gran tiempo, se aproxima a una cantidad **constante de clientes** en cada local.\n",
    "> Los clientes finales en cada local de esta simulación serán :\n",
    "\n",
    "------- | Clientes |\n",
    " --- | --- |\n",
    "**Sansafood** | 140 |\n",
    "**LDS ltda** | 91 |\n",
    "**Wenzi's** | 169 |\n",
    "\n",
    "> Podemos concluir que el local con mayor cantidad de clientes despuès de 500 dìas será **Wenzi's** con 169 clientes."
   ]
  },
  {
   "cell_type": "markdown",
   "metadata": {},
   "source": [
    "## Reglas del Juego y Comentarios \n",
    "\n",
    "+ Errores ortográficos, de redacción y oraciones ambiguas descontarán parte de su puntaje.\n",
    "+ Dudas solamente hasta el  día 31 de Marzo a las 23hrs.\n",
    "+ Dudas **principalmente** vía moodle, evite otro tipo de medio ya que su duda podría ser la de otro.\n",
    "+ Cada día de atraso descuenta 25 puntos de la nota final con un máximo de dos días de retraso (después es 0).\n",
    "+ La versión de R que se usará para revisar es 3.5.2\n",
    "+ La versión de Python que se usará para revisar es 3.6.8\n",
    "+ Los alumnos malla nueva que decidan responder las preguntas opcionales (obviando algún bonus para todos) tendrán 1 punto bonus por pregunta correctamente respondida, con un máximo de nota 100.\n",
    "+ Use cualquier librería que estime conveniente, si requiere de instalación explicitarlo en el README (y bien explicitado).\n",
    "+ Código comentado para facilitar entendimiento.\n",
    "+ Sea formal y claro con su respuesta, explique su procedimiento y luego responda. \n",
    "+ Defina bien las secciones de su notebook, el orden siempre es bueno :) [Tips para usar Markdown](https://github.com/adam-p/markdown-here/wiki/Markdown-Cheatsheet)"
   ]
  },
  {
   "cell_type": "code",
   "execution_count": null,
   "metadata": {},
   "outputs": [],
   "source": []
  }
 ],
 "metadata": {
  "kernelspec": {
   "display_name": "Python 3",
   "language": "python",
   "name": "python3"
  },
  "language_info": {
   "codemirror_mode": {
    "name": "ipython",
    "version": 3
   },
   "file_extension": ".py",
   "mimetype": "text/x-python",
   "name": "python",
   "nbconvert_exporter": "python",
   "pygments_lexer": "ipython3",
   "version": "3.6.7"
  }
 },
 "nbformat": 4,
 "nbformat_minor": 2
}
