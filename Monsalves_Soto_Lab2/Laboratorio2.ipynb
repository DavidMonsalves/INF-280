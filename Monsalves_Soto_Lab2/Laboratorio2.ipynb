{
 "cells": [
  {
   "cell_type": "markdown",
   "metadata": {},
   "source": [
    "<table style=\"width:100%\">\n",
    "  <tr>\n",
    "    <th align=\"right\"><img src=\"img/dilogo.png\" style=\"float:left;height:90px\"></th>\n",
    "    <th align=\"center\">\n",
    "    <h1 align=\"center\">Laboratorio 2</h1>\n",
    "    <h2 align=\"center\">Profesor: Ricardo Ñanculef</h2>\n",
    "    <h3 align=\"center\">Ayudante: Gabriel Ortega</h3>\n",
    "    <h3 align=\"center\">David_Monsalves;201773547-3;nueva</h3>\n",
    "    <h3 align=\"center\">Sebastian_Soto;201773501-5;nueva</h3>\n",
    "    <h3 align=\"center\">Abril 2019</h3>\n",
    "    </th> \n",
    "    <th align=\"left\"><img src=\"img/usmlogo.png\" style=\"float:right;height:85px\"></th>\n",
    "  </tr>"
   ]
  },
  {
   "cell_type": "markdown",
   "metadata": {},
   "source": [
    "## Instrucciones\n",
    "\n",
    "La modalidad de trabajo será mediante el uso de jupyter notebook. El notebook debe ser desarrollado en parejas o individual. Este laboratorio debe ser entregado el día 3 de Mayo.\n",
    "\n",
    "La **modalidad de entrega será un archivo Apellido1_Apellido2_Lab2.zip** que contenga un notebook que incluya todas las preguntas con sus respectivas respuestas + un README que indique la forma correcta de ejecutar su notebook. El laboratorio puede ser trabajado tanto en lenguaje R como en lenguaje python (para los que usen python 2.X, absténganse a las consecuencias). Lea bien el enunciado.\n",
    "\n",
    "\n",
    "**Cualquier copia detectada implicará nota 0 en el laboratorio correspondiente y se notificará la situación al profesor.**\n"
   ]
  },
  {
   "cell_type": "markdown",
   "metadata": {},
   "source": [
    "---\n",
    "**Esto es solo una sugerencia y no tendrá ningún impacto en su nota**\n",
    "\n",
    "## Tip para Gráficos (Python)\n",
    "\n",
    "Puede hacer sus gráficos un poco más estilosos utilizando la libreria seaborn\n",
    "\n",
    "```python\n",
    "import matplotlib.pyplot as plt\n",
    "import seaborn as sns\n",
    "sns.set()\n",
    "%matplotlib inline #con esto no es necesario hacer plt.show()\n",
    "```\n",
    "\n",
    "El uso es igual que un gráfico de matplotlib, solo que ```sns.set()``` hace que se cargue la visualización de seaborn encima. [Informacion sobre seaborn.set()](https://seaborn.pydata.org/generated/seaborn.set.html)\n",
    "\n",
    "## Tip para Gráficos (R)\n",
    "\n",
    "Puede hacer sus gráficos un poco más estilosos utilizando la libreria [ggplot2](https://www.statmethods.net/advgraphs/ggplot2.html)\n",
    "\n",
    "\n",
    "## Interactive Widgets\n",
    "\n",
    "Si usted está trabajando en python puede hacer una widget interactiva que varíe los parámetros de una función, como se puede ver en el siguiente fragmento de código (debe ejecutarlo)."
   ]
  },
  {
   "cell_type": "code",
   "execution_count": 1,
   "metadata": {},
   "outputs": [
    {
     "data": {
      "application/vnd.jupyter.widget-view+json": {
       "model_id": "56e885409ab64413984d2b7e52a3c92e",
       "version_major": 2,
       "version_minor": 0
      },
      "text/plain": [
       "interactive(children=(IntSlider(value=11, description='x', max=20, min=2), Output()), _dom_classes=('widget-in…"
      ]
     },
     "metadata": {},
     "output_type": "display_data"
    },
    {
     "data": {
      "text/plain": [
       "<function __main__.plot_serie(x)>"
      ]
     },
     "execution_count": 1,
     "metadata": {},
     "output_type": "execute_result"
    }
   ],
   "source": [
    "from ipywidgets import interact \n",
    "import matplotlib.pyplot as plt\n",
    "import seaborn as sns\n",
    "import numpy as np\n",
    "sns.set()\n",
    "%matplotlib inline \n",
    "\n",
    "def plot_serie(x):\n",
    "    values = np.arange(1,x,0.5)**2\n",
    "    values2 = np.arange(1,x,0.5)**3\n",
    "    plt.xlabel(\"X\")\n",
    "    plt.ylabel(\"Y\")\n",
    "    plt.plot(values/values2)\n",
    "        \n",
    "\n",
    "interact(plot_serie,x=(2,20))"
   ]
  },
  {
   "cell_type": "markdown",
   "metadata": {},
   "source": [
    "---\n",
    "## 1. Retención de Clientes\n",
    "\n",
    "La fuga (*churn*, término en inglés) de clientes es algo que muchas empresas de hoy en día sufren, la fuga puede deberse a muchos factores, uno de estos podría ser alguna característica del servicio en sí que provee la empresa. En esta sección usted trabajará con un dataset de \"Telco\", una empresa de telecomunicaciones, donde verá varios datos relacionados al plan de los clientes, uno de estos campos siendo \"*Churn*\", si el cliente se fugó o no. \n",
    "\n",
    "El archivo a utilizar es \"churn.csv\" y para información extra puede referirse a [este enlace](https://www.kaggle.com/blastchar/telco-customer-churn)\n",
    "\n",
    ">a) Haga un análisis exploratorio **a su criterio** del dataset y extraiga 3 conclusiones acerca del conjunto de datos"
   ]
  },
  {
   "cell_type": "markdown",
   "metadata": {},
   "source": [
    "## CÓDIGO a) :"
   ]
  },
  {
   "cell_type": "code",
   "execution_count": 4,
   "metadata": {},
   "outputs": [],
   "source": [
    "import csv\n",
    "dsl_cm = list()\n",
    "fo_cm = list()\n",
    "non_cm = list()\n",
    "cont = 0\n",
    "dsl_t = list()\n",
    "fo_t = list()\n",
    "non_t = list()\n",
    "max_cm = -1\n",
    "min_cm = 99999\n",
    "max_t = -1\n",
    "min_t = 99999\n",
    "with open('churn.csv', newline='') as File:  \n",
    "    reader = csv.reader(File)\n",
    "    for row in reader:\n",
    "        if cont != 0:\n",
    "            if row[8] == \"DSL\" :\n",
    "                dsl_cm.append(float(row[-3]))\n",
    "                dsl_t.append(float(row[5]))\n",
    "                if float(row[-3]) > max_cm :\n",
    "                    max_cm = float(row[-3])\n",
    "                if float(row[-3]) < min_cm :\n",
    "                    min_cm = float(row[-3])\n",
    "                if float(row[5]) > max_t :\n",
    "                    max_t = float(row[5])\n",
    "                if float(row[5]) < min_t :\n",
    "                    min_t = float(row[5])\n",
    "            elif row[8] == \"Fiber optic\" :\n",
    "                fo_cm.append(float(row[-3]))\n",
    "                fo_t.append(float(row[5]))\n",
    "                if float(row[-3]) > max_cm :\n",
    "                    max_cm = float(row[-3])\n",
    "                if float(row[-3]) < min_cm :\n",
    "                    min_cm = float(row[-3])\n",
    "                if float(row[5]) > max_t :\n",
    "                    max_t = float(row[5])\n",
    "                if float(row[5]) < min_t :\n",
    "                    min_t = float(row[5])\n",
    "            else:\n",
    "                non_cm.append(float(row[-3]))\n",
    "                non_t.append(float(row[5]))\n",
    "                if float(row[-3]) > max_cm :\n",
    "                    max_cm = float(row[-3])\n",
    "                if float(row[-3]) < min_cm :\n",
    "                    min_cm = float(row[-3])\n",
    "                if float(row[5]) > max_t :\n",
    "                    max_t = float(row[5])\n",
    "                if float(row[5]) < min_t :\n",
    "                    min_t = float(row[5])\n",
    "        cont += 1"
   ]
  },
  {
   "cell_type": "code",
   "execution_count": null,
   "metadata": {},
   "outputs": [],
   "source": []
  },
  {
   "cell_type": "code",
   "execution_count": 56,
   "metadata": {},
   "outputs": [
    {
     "name": "stdout",
     "output_type": "stream",
     "text": [
      "DSL_CARGO_MENSUAL :\n"
     ]
    },
    {
     "data": {
      "image/png": "[encoded data removed]",
      "text/plain": [
       "<Figure size 360x360 with 1 Axes>"
      ]
     },
     "metadata": {
      "needs_background": "light"
     },
     "output_type": "display_data"
    },
    {
     "name": "stdout",
     "output_type": "stream",
     "text": [
      "FO_CARGO_MENSUAL :\n"
     ]
    },
    {
     "data": {
      "image/png": "[encoded data removed]",
      "text/plain": [
       "<Figure size 360x360 with 1 Axes>"
      ]
     },
     "metadata": {
      "needs_background": "light"
     },
     "output_type": "display_data"
    },
    {
     "name": "stdout",
     "output_type": "stream",
     "text": [
      "NINGUNO_CARGO_MENSUAL :\n"
     ]
    },
    {
     "data": {
      "image/png": "[encoded data removed]",
      "text/plain": [
       "<Figure size 360x360 with 1 Axes>"
      ]
     },
     "metadata": {
      "needs_background": "light"
     },
     "output_type": "display_data"
    }
   ],
   "source": [
    "import math\n",
    "k = round(math.log(len(dsl_cm),2) + 1)\n",
    "R = max(dsl_cm) - min(dsl_cm)\n",
    "A = R/k\n",
    "print(\"DSL_CARGO_MENSUAL :\")\n",
    "plt.hist(dsl_cm,bins = k, rwidth = A)\n",
    "plt.show()\n",
    "\n",
    "k = round(math.log(len(fo_cm),2) + 1)\n",
    "R = max(fo_cm) - min(fo_cm)\n",
    "A = R/k\n",
    "print(\"FO_CARGO_MENSUAL :\")\n",
    "plt.hist(fo_cm,bins = k, rwidth = A)\n",
    "plt.show()\n",
    "\n",
    "k = round(math.log(len(non_cm),2) + 1)\n",
    "R = max(non_cm) - min(non_cm)\n",
    "A = R/k\n",
    "print(\"NINGUNO_CARGO_MENSUAL :\")\n",
    "plt.hist(non_cm,bins = k, rwidth = A)\n",
    "plt.show()"
   ]
  },
  {
   "cell_type": "code",
   "execution_count": 57,
   "metadata": {},
   "outputs": [
    {
     "data": {
      "image/png": "[encoded data removed]",
      "text/plain": [
       "<Figure size 360x360 with 1 Axes>"
      ]
     },
     "metadata": {
      "needs_background": "light"
     },
     "output_type": "display_data"
    }
   ],
   "source": [
    "import matplotlib.pyplot as plt\n",
    "import seaborn as sns\n",
    "data = [dsl_cm, fo_cm,non_cm]\n",
    "fig7, ax7 = plt.subplots()\n",
    "ax7.set_title(\"Cargo mensual\")\n",
    "ax7.boxplot(data, labels = [\"Dsl\", \"Fibra Óptica\", \"Ninguna\"])\n",
    "sns.set()"
   ]
  },
  {
   "cell_type": "markdown",
   "metadata": {},
   "source": [
    "Respecto al boxplot, podemos concluir que la el cargo mensual de una persona se ve reflejado en el tipo de servicio que posee, pues podemos observar que existe un elevado cargo mensual por utilizar fibra óptica, mientras que usar dsl no implica tanto cargo mensual. Respecto al histograma del dsl, podemos decir que tiene una moda entre entre las personas 55 y 60, tiene una forma de distribución binomial y los datos se distribuyen en un cargo mensual de 22 y 98, mientras que el histograma de la fibra óptica, nos dice que hay una moda entre 103 y  106, sus valores son casi equivalentes entre sí y los datos se distribuyen en un cargo mensual de 68 y 118. "
   ]
  },
  {
   "cell_type": "code",
   "execution_count": 58,
   "metadata": {
    "scrolled": true
   },
   "outputs": [
    {
     "name": "stdout",
     "output_type": "stream",
     "text": [
      "DSL_ESTADIA :\n"
     ]
    },
    {
     "data": {
      "image/png": "[encoded data removed]",
      "text/plain": [
       "<Figure size 360x360 with 1 Axes>"
      ]
     },
     "metadata": {},
     "output_type": "display_data"
    },
    {
     "name": "stdout",
     "output_type": "stream",
     "text": [
      "FO_ESTADIA :\n"
     ]
    },
    {
     "data": {
      "image/png": "[encoded data removed]",
      "text/plain": [
       "<Figure size 360x360 with 1 Axes>"
      ]
     },
     "metadata": {},
     "output_type": "display_data"
    },
    {
     "name": "stdout",
     "output_type": "stream",
     "text": [
      "NNGUNO_ESTADIA :\n"
     ]
    },
    {
     "data": {
      "image/png": "[encoded data removed]",
      "text/plain": [
       "<Figure size 360x360 with 1 Axes>"
      ]
     },
     "metadata": {},
     "output_type": "display_data"
    }
   ],
   "source": [
    "k = round(math.log(len(dsl_t),2) + 1)\n",
    "R = max(dsl_t) - min(dsl_t)\n",
    "A = R/k\n",
    "print(\"DSL_ESTADIA :\")\n",
    "plt.hist(dsl_t,bins = k, rwidth = A)\n",
    "plt.show()\n",
    "\n",
    "k = round(math.log(len(fo_t),2) + 1)\n",
    "R = max(fo_t) - min(fo_t)\n",
    "A = R/k\n",
    "print(\"FO_ESTADIA :\")\n",
    "plt.hist(fo_t,bins = k, rwidth = A)\n",
    "plt.show()\n",
    "\n",
    "k = round(math.log(len(non_t),2) + 1)\n",
    "R = max(non_t) - min(non_t)\n",
    "A = R/k\n",
    "print(\"NNGUNO_ESTADIA :\")\n",
    "plt.hist(non_t,bins = k, rwidth = A)\n",
    "sns.set()"
   ]
  },
  {
   "cell_type": "code",
   "execution_count": 59,
   "metadata": {},
   "outputs": [
    {
     "data": {
      "image/png": "[encoded data removed]",
      "text/plain": [
       "<Figure size 360x360 with 1 Axes>"
      ]
     },
     "metadata": {},
     "output_type": "display_data"
    }
   ],
   "source": [
    "data = [dsl_t, fo_t,non_t]\n",
    "fig7, ax7 = plt.subplots()\n",
    "ax7.set_title(\"Estadía\")\n",
    "ax7.boxplot(data, labels = [\"Dsl\", \"Fibra Óptica\",\"Ninguna\"])\n",
    "sns.set()"
   ]
  },
  {
   "cell_type": "markdown",
   "metadata": {},
   "source": [
    "Respecto al boxplot se puede concluir que no existe una mayor diferencia entre la estadía de una persona que tiene DSL,Fibra Óptica o ningun servicio, debido a que sus medianas son cercanas y la longitud de sus cajas son casi equivalentes entre sí. Analizando los histogramas de cada servicio, podemos concluir que son bastante parecidos y que los datos se concentra en sus extremos, donde el rango de estadía es de 0 y 8, y entre 67 y 70."
   ]
  },
  {
   "cell_type": "markdown",
   "metadata": {},
   "source": [
    "> b.1) Determine la probabilidad de que: <ul>\n",
    "    <li>Un cliente sea mujer dado que tiene fibra óptica </li>\n",
    "    <li>Un cliente sea hombre dado que tiene fibra óptica</li>\n",
    "    <li>Un cliente sea mujer dado que no tiene fibra óptica</li>\n",
    "    <li>Un cliente sea hombre dado que no tiene fibra óptica</li>\n",
    "    </ul>\n",
    "    Además indique cuál/es de estos pares deben sumar 1 (Si es que algún par debe sumar esta cantidad). Justifique su respuesta.\n",
    "    "
   ]
  },
  {
   "cell_type": "markdown",
   "metadata": {},
   "source": [
    "## CÓDIGO b) y c):"
   ]
  },
  {
   "cell_type": "markdown",
   "metadata": {},
   "source": [
    "En el siguiente código, se crean los contadores bases para responder las preguntas b) y c)"
   ]
  },
  {
   "cell_type": "code",
   "execution_count": 5,
   "metadata": {},
   "outputs": [],
   "source": [
    "import csv\n",
    "cant_fo = 0 #Cantidad de personas que tienen fibra óptica\n",
    "cant_mujer_fo = 0 #Cantidad de mujeres que tienen fibra óptica\n",
    "cant_hombre_fo = 0 #Cantidad de hombres que tienen fibra óptica\n",
    "cant_total = -1 #Cantidad de personas en la muestra\n",
    "cant_mujer = 0 #Cantidad de mujeres\n",
    "cant_dsl = 0 #Cantidad de personas que tienen dsl\n",
    "cant_churn = 0 #Cantidad de personas que se han fugado\n",
    "cant_churn_dsl = 0 #Cantidad de personas que se han fugado teniendo dsl\n",
    "cant_churn_fo = 0 #Cantidad de personas que se han fugado teniendo fibra optica\n",
    "\n",
    "'''Las siguientes líneas de código realizan el proceso de contar la cantidad de veces que se cumple\n",
    "algunas de las variables definidas anteriormente.'''\n",
    "\n",
    "with open('churn.csv', newline='') as File:  \n",
    "    reader = csv.reader(File)\n",
    "    for row in reader:\n",
    "        cant_total += 1\n",
    "        if row[1] == \"Female\":\n",
    "            cant_mujer += 1\n",
    "        if row[8] == \"Fiber optic\":\n",
    "            cant_fo += 1\n",
    "            if row[-1] == \"Yes\" :\n",
    "                cant_churn_fo += 1\n",
    "            if row[1] == \"Female\":\n",
    "                cant_mujer_fo += 1\n",
    "            else:\n",
    "                cant_hombre_fo += 1\n",
    "        if row[8] == \"DSL\" :\n",
    "            cant_dsl += 1\n",
    "            if row[-1] == \"Yes\" :\n",
    "                cant_churn_dsl += 1\n",
    "        if row[-1] == \"Yes\" :\n",
    "            cant_churn += 1\n",
    "\n",
    "cant_hombre = cant_total - cant_mujer #Cantidad de hombres\n",
    "cant_mujer_no_fo = cant_mujer - cant_mujer_fo #Cantidad de mujeres que no tienen fibra óptica\n",
    "cant_hombre_no_fo = cant_hombre - cant_hombre_fo #Cantidad de hombres que no tienen fibra óptica"
   ]
  },
  {
   "cell_type": "markdown",
   "metadata": {},
   "source": [
    "## RESPUESTA b.1) :"
   ]
  },
  {
   "cell_type": "markdown",
   "metadata": {},
   "source": [
    "### Eventos:\n",
    "1. **$M$**: Una persona es mujer\n",
    "2. **$H$**: Una persona es hombre\n",
    "3. **$FO$**: Una persona tenga fibra óptica\n",
    "##### NOTA: Notar que el complemento de M es H."
   ]
  },
  {
   "cell_type": "markdown",
   "metadata": {},
   "source": [
    "Sabemos que la probabilidad condicionada de dos eventos es:\n",
    "\n",
    " - **$P(A|B) =$** **$\\frac{P(A∩B)}{P(B)}$**\n",
    "\n",
    "Por lo tanto, para las probabilidades pedidas, tenemos:\n",
    "\n",
    "1. **$P(M|FO) =$** **$\\frac{P(M∩FO)}{P(FO)}$**\n",
    "\n",
    "2. **$P(M|FO') =$** **$\\frac{P(M∩FO')}{P(FO')}$**\n",
    "\n",
    "3. **$P(H|FO) =$** **$\\frac{P(H∩FO)}{P(FO)}$**\n",
    "\n",
    "4. **$P(H|FO') =$** **$\\frac{P(H∩FO')}{P(FO')}$**\n",
    "\n",
    "A priori, aquellos valores que deben sumar 1 son: 1 y 3, 2 y 4.\n",
    "\n",
    "Para corroborar nuestra hipótesis,  se debe calcular aquellos valores desconocidos para posteriormente calcular las probabilidades condicionadas."
   ]
  },
  {
   "cell_type": "markdown",
   "metadata": {},
   "source": [
    "## Intersecciónes :"
   ]
  },
  {
   "cell_type": "code",
   "execution_count": 7,
   "metadata": {},
   "outputs": [
    {
     "name": "stdout",
     "output_type": "stream",
     "text": [
      "0.2205\n",
      "0.2747\n",
      "0.2191\n",
      "0.2857\n"
     ]
    }
   ],
   "source": [
    "prob_mujer_fo = cant_mujer_fo/cant_total # Probabilidad de mujer y que tenga fibra óptica\n",
    "prob_mujer_no_fo = cant_mujer_no_fo/cant_total # Probabilidad de mujer y que no tenga fibra óptica\n",
    "prob_hombre_fo = cant_hombre_fo/cant_total # Probabilidad de hombre y que tenga fibra óptica\n",
    "prob_hombre_no_fo = cant_hombre_no_fo/cant_total # Probabilidad de hombre y que no tenga fibra óptica\n",
    "print(round(prob_mujer_fo,4))\n",
    "print(round(prob_mujer_no_fo,4))\n",
    "print(round(prob_hombre_fo,4))\n",
    "print(round(prob_hombre_no_fo,4))"
   ]
  },
  {
   "cell_type": "markdown",
   "metadata": {},
   "source": [
    "Tenemos:\n",
    "\n",
    "- **$P(M∩FO)= 0.2205$**\n",
    "- **$P(M∩FO')= 0.2747$**\n",
    "- **$P(H∩FO)= 0.2191$**\n",
    "- **$P(H∩FO')= 0.2857$**"
   ]
  },
  {
   "cell_type": "markdown",
   "metadata": {},
   "source": [
    "## Fibra óptica :\n",
    "Sabemos que la probabilidad del complemento de un evento es:\n",
    "- **$P(A')= 1 - P(A)$**"
   ]
  },
  {
   "cell_type": "code",
   "execution_count": 17,
   "metadata": {},
   "outputs": [
    {
     "name": "stdout",
     "output_type": "stream",
     "text": [
      "0.4396\n",
      "0.5604\n"
     ]
    }
   ],
   "source": [
    "prob_fo = cant_fo/cant_total\n",
    "prob_no_fo = 1 - prob_fo\n",
    "print(round(prob_fo,4))\n",
    "print(round(prob_no_fo,4))"
   ]
  },
  {
   "cell_type": "markdown",
   "metadata": {},
   "source": [
    "Tenemos:\n",
    "\n",
    "- **$P(FO)= 0.4396$**\n",
    "- **$P(FO')= 0.5604$**\n"
   ]
  },
  {
   "cell_type": "markdown",
   "metadata": {},
   "source": [
    "Ahora que conocemos los valores, podemos calcular las probabilidades condicionadas."
   ]
  },
  {
   "cell_type": "markdown",
   "metadata": {},
   "source": [
    "## Condicionadas :"
   ]
  },
  {
   "cell_type": "code",
   "execution_count": 15,
   "metadata": {},
   "outputs": [
    {
     "name": "stdout",
     "output_type": "stream",
     "text": [
      "0.5016\n",
      "0.4902\n",
      "0.4984\n",
      "0.5098\n"
     ]
    }
   ],
   "source": [
    "prob_mujer_dado_fo = prob_mujer_fo/prob_fo\n",
    "prob_mujer_dado_no_fo = prob_mujer_no_fo/prob_no_fo\n",
    "prob_hombre_dado_fo = prob_hombre_fo/prob_fo\n",
    "prob_hombre_dado_no_fo = prob_hombre_no_fo/prob_no_fo\n",
    "print(round(prob_mujer_dado_fo,4))\n",
    "print(round(prob_mujer_dado_no_fo,4))\n",
    "print(round(prob_hombre_dado_fo,4))\n",
    "print(round(prob_hombre_dado_no_fo,4))"
   ]
  },
  {
   "cell_type": "markdown",
   "metadata": {},
   "source": [
    "Tenemos:\n",
    "\n",
    "- **$P(M|FO)= 0.5016$**\n",
    "- **$P(M|FO')= 0.4902$**\n",
    "- **$P(H|FO)= 0.4984$**\n",
    "- **$P(H|FO')= 0.5098$**"
   ]
  },
  {
   "cell_type": "code",
   "execution_count": 16,
   "metadata": {},
   "outputs": [
    {
     "name": "stdout",
     "output_type": "stream",
     "text": [
      "1.0\n",
      "1.0\n"
     ]
    }
   ],
   "source": [
    "print(prob_mujer_dado_fo + prob_hombre_dado_fo)\n",
    "print(prob_mujer_dado_no_fo + prob_hombre_dado_no_fo)"
   ]
  },
  {
   "cell_type": "markdown",
   "metadata": {},
   "source": [
    "Efectivamente, nuestra hipótesis es correcta. Aquellas probabilidades que suman 1 son : (1) y (3), (2) y (4). "
   ]
  },
  {
   "cell_type": "code",
   "execution_count": null,
   "metadata": {},
   "outputs": [],
   "source": []
  },
  {
   "cell_type": "markdown",
   "metadata": {},
   "source": [
    ">b.2) ¿Es posible concluir que si un cliente es hombre tiene más probabilidad de tener fibra óptica? ¿Y si es mujer? ¿Por qué?"
   ]
  },
  {
   "cell_type": "markdown",
   "metadata": {},
   "source": [
    "## RESPUESTA b.2)"
   ]
  },
  {
   "cell_type": "code",
   "execution_count": 24,
   "metadata": {},
   "outputs": [
    {
     "name": "stdout",
     "output_type": "stream",
     "text": [
      "0.4952\n",
      "0.5048\n"
     ]
    }
   ],
   "source": [
    "prob_mujer = cant_mujer/cant_total\n",
    "prob_hombre = cant_hombre/cant_total\n",
    "print(round(prob_mujer,4))\n",
    "print(round(prob_hombre,4))"
   ]
  },
  {
   "cell_type": "markdown",
   "metadata": {},
   "source": [
    "Tenemos:\n",
    "\n",
    "- **$P(M)= 0.4952$**\n",
    "- **$P(H)= 0.5048$**"
   ]
  },
  {
   "cell_type": "code",
   "execution_count": 26,
   "metadata": {},
   "outputs": [
    {
     "name": "stdout",
     "output_type": "stream",
     "text": [
      "0.4452\n",
      "0.434\n"
     ]
    }
   ],
   "source": [
    "prob_fo_dado_mujer = prob_mujer_fo/prob_mujer\n",
    "prob_fo_dado_hombre = prob_hombre_fo/prob_hombre\n",
    "print(round(prob_fo_dado_mujer,4))\n",
    "print(round(prob_fo_dado_hombre,4))"
   ]
  },
  {
   "cell_type": "markdown",
   "metadata": {},
   "source": [
    "Los resultados obtenidos son:\n",
    "\n",
    "- **$P(FO|M) = 0.4452$**\n",
    "- **$P(FO|H) = 0.4340$**\n",
    "\n",
    "Debido a que las probabilididades de ambas condiciones son muy cercanas, no se puede concluir con certeza quien tiene más probabilidad de tener fibra óptica."
   ]
  },
  {
   "cell_type": "code",
   "execution_count": null,
   "metadata": {},
   "outputs": [],
   "source": []
  },
  {
   "cell_type": "markdown",
   "metadata": {},
   "source": [
    ">c) Utilizando criterios de probabilidad condicional ¿Hay algún servicio de internet más propenso a la fuga?"
   ]
  },
  {
   "cell_type": "markdown",
   "metadata": {},
   "source": [
    "## RESPUESTA c)"
   ]
  },
  {
   "cell_type": "markdown",
   "metadata": {},
   "source": [
    "## Eventos :\n",
    "\n",
    "1. **$C$** : Se da a la fuga\n",
    "2. **$DSL$** : El servicio es DSL\n",
    "3. **$FO$** : El servicio es Fibra Óptica\n",
    "\n",
    "Las probabilidades pedidas son:\n",
    "\n",
    "- **$P(C|DSL)$ =** **$\\frac{P(C∩DSL)}{P(DSL)}$**\n",
    "\n",
    "- **$P(C|FO)$ =** **$\\frac{P(C∩FO)}{P(FO)}$**\n",
    "\n",
    "Se debe calcular aquellos valores desconocidos para posteriormente calcular las probabilidades condicionadas."
   ]
  },
  {
   "cell_type": "markdown",
   "metadata": {},
   "source": [
    "### Intersecciones :"
   ]
  },
  {
   "cell_type": "code",
   "execution_count": 28,
   "metadata": {},
   "outputs": [
    {
     "name": "stdout",
     "output_type": "stream",
     "text": [
      "0.0652\n",
      "0.1842\n"
     ]
    }
   ],
   "source": [
    "prob_churn_dsl = cant_churn_dsl/cant_total\n",
    "prob_churn_fo = cant_churn_fo/cant_total\n",
    "print(round(prob_churn_dsl,4))\n",
    "print(round(prob_churn_fo,4))"
   ]
  },
  {
   "cell_type": "markdown",
   "metadata": {},
   "source": [
    "Tenemos :\n",
    "- **$P(C∩DSL)= 0.0652$**\n",
    "- **$P(C∩FO)= 0.1842$**"
   ]
  },
  {
   "cell_type": "markdown",
   "metadata": {},
   "source": [
    "### Condicionadas :"
   ]
  },
  {
   "cell_type": "code",
   "execution_count": 34,
   "metadata": {},
   "outputs": [
    {
     "name": "stdout",
     "output_type": "stream",
     "text": [
      "0.18959107806691447\n",
      "0.4189276485788114\n"
     ]
    }
   ],
   "source": [
    "prob_churn = cant_churn/cant_total\n",
    "prob_dsl = cant_dsl/cant_total\n",
    "prob_churn_dado_dsl = prob_churn_dsl/prob_dsl\n",
    "prob_churn_dado_fo = prob_churn_fo/prob_fo\n",
    "print(prob_churn_dado_dsl)\n",
    "print(prob_churn_dado_fo)"
   ]
  },
  {
   "cell_type": "markdown",
   "metadata": {},
   "source": [
    "Los resultados obtenidos son :\n",
    "\n",
    "- **$P(C|DSL) = 0.1896$**\n",
    "- **$P(C|FO) = 0.4189$**\n",
    "\n",
    "Como la probabilidad de darse a la fuga dado que tiene fibra óptica es un 22.93% mayor que la probabilidad de darse a la fuga dado que tiene dsl, se puede concluir que teniendo fibra óptica es mucho más probable que la gente se fuge."
   ]
  },
  {
   "cell_type": "code",
   "execution_count": null,
   "metadata": {},
   "outputs": [],
   "source": []
  },
  {
   "cell_type": "markdown",
   "metadata": {},
   "source": [
    ">d) Utilizando criterios de probabilidad condicional, ¿es el cargo mensual un buen predictor de la fuga? y ¿es la fuga un buen predictor del cargo mensual de un cliente?"
   ]
  },
  {
   "cell_type": "markdown",
   "metadata": {},
   "source": [
    "#### *NOTA*:\n",
    "- Para que se vea más ordenado, se repite el proceso de leer y extraer los valores que necesitamos, con nuevas variables.\n",
    "\n",
    "En el siguiente código, se crean los contadores bases para responder las preguntas d) y e)"
   ]
  },
  {
   "cell_type": "markdown",
   "metadata": {},
   "source": [
    "## CÓDIGO d) y e) :"
   ]
  },
  {
   "cell_type": "code",
   "execution_count": 33,
   "metadata": {},
   "outputs": [],
   "source": [
    "linea = 0\n",
    "CM_bajo = 0 #Cantidad de personas con cargo mensual bajo\n",
    "churn_CM_bajo = 0 #Cantidad de personas que se han fugado con cargo mensual bajo\n",
    "CM_medio = 0 #Cantidad de personas con cargo mensual medio\n",
    "churn_CM_medio = 0 #Cantidad de personas que se han fugado con cargo mensual medio\n",
    "CM_alto = 0 #Cantidad de personas con cargo mensual alto\n",
    "churn_CM_alto = 0 #Cantidad de personas que se han fugado con cargo mensual alto\n",
    "CM_muy_alto = 0 #Cantidad de personas con cargo mensual muy alto\n",
    "churn_CM_muy_alto = 0 #Cantidad de personas que se han fugado con cargo mensual muy alto\n",
    "estadia_baja = 0 #Cantidad personas que tienen estadía baja\n",
    "estadia_alta = 0 #Cantidad personas que tienen estadía alta\n",
    "ea_CM_A = 0 #Cantidad personas que tienen estadía alta y un cargo mensual alto\n",
    "eb_CM_A = 0 #Cantidad personas que tienen estadía baja y un cargo mensual alto\n",
    "ea_CM_B = 0 #Cantidad personas que tienen estadía alta y un cargo mensual bajo\n",
    "eb_CM_B = 0 #Cantidad personas que tienen estadía baja y un cargo mensual bajo\n",
    "\n",
    "'''Las siguientes líneas de código realizan el proceso de contar la cantidad de veces que se cumple\n",
    "algunas de las variables definidas anteriormente.'''\n",
    "\n",
    "with open('churn.csv', newline='') as File:  \n",
    "    reader = csv.reader(File)\n",
    "    for row in reader:\n",
    "        if linea != 0:\n",
    "            if int(row[5]) > 36 :\n",
    "                estadia_alta += 1\n",
    "            if int(row[5]) <= 36 :\n",
    "                estadia_baja += 1\n",
    "            if float(row[-3]) > 93.25 :\n",
    "                CM_muy_alto += 1\n",
    "                if int(row[5]) > 36 :\n",
    "                    ea_CM_A += 1\n",
    "                if int(row[5]) <= 36 :\n",
    "                    eb_CM_A += 1\n",
    "                if row[-1] == \"Yes\" :\n",
    "                    churn_CM_muy_alto += 1\n",
    "            elif float(row[-3]) > 68.25 :\n",
    "                CM_alto += 1\n",
    "                if int(row[5]) > 36 :\n",
    "                    ea_CM_A += 1\n",
    "                if int(row[5]) <= 36 :\n",
    "                    eb_CM_A += 1\n",
    "                if row[-1] == \"Yes\" :\n",
    "                    churn_CM_alto += 1\n",
    "            elif float(row[-3]) > 43.25 :\n",
    "                CM_medio += 1\n",
    "                if int(row[5]) > 36 :\n",
    "                    ea_CM_B += 1\n",
    "                if int(row[5]) <= 36 :\n",
    "                    eb_CM_B += 1\n",
    "                if row[-1] == \"Yes\" :\n",
    "                    churn_CM_medio += 1\n",
    "            else :\n",
    "                CM_bajo += 1\n",
    "                if int(row[5]) > 36 :\n",
    "                    ea_CM_A += 1\n",
    "                if int(row[5]) <= 36 :\n",
    "                    eb_CM_A += 1\n",
    "                if row[-1] == \"Yes\" :\n",
    "                    churn_CM_bajo += 1\n",
    "        linea += 1"
   ]
  },
  {
   "cell_type": "markdown",
   "metadata": {},
   "source": [
    "## RESPUESTA d) :"
   ]
  },
  {
   "cell_type": "markdown",
   "metadata": {},
   "source": [
    "Para un mejor **análisis** de los datos, los **cargos mensuales** se dividieron en **4 clasificaciones**, estos son:\n",
    "\n",
    "- Cargo mensual muy alto: > 93.25\n",
    "\n",
    "- Cargo mensual alto: > 68.25\n",
    "\n",
    "- Cargo mensual medio : > 43.25\n",
    "\n",
    "- Cargo mensual bajo :  < 43.25\n",
    "\n",
    "## Eventos :\n",
    "\n",
    "1. **$C$** : Persona se da a la fuga\n",
    "2. **$CM.B$** : Persona tiene cargo mensual bajo\n",
    "3. **$CM.M$** : Persona tiene cargo mensual medio\n",
    "4. **$CM.A$** : Persona tiene cargo mensual alto\n",
    "5. **$CM.MA$** : Persona tiene cargo mensual muy alto\n",
    "\n",
    "Las probabilidades que se van a calcular para responder la primera pregunta, son:\n",
    "\n",
    "- **$P(C|CM.B)$ =** **$\\frac{P(C∩CM.B)}{P(CM.B)}$**\n",
    "\n",
    "- **$P(C|CM.M)$ =** **$\\frac{P(C∩CM.M)}{P(CM.M)}$**\n",
    "\n",
    "- **$P(C|CM.A)$ =** **$\\frac{P(C∩CM.A)}{P(CM.A)}$**\n",
    "\n",
    "- **$P(C|CM.MA)$ =** **$\\frac{P(C∩CM.MA)}{P(CM.MA)}$**\n",
    "\n",
    "Las probabilidades que se van a calcular para responder la segunda pregunta, son:\n",
    "\n",
    "- **$P(CM.B|C)$ =** **$\\frac{P(C∩CM.B)}{P(C)}$**\n",
    "\n",
    "- **$P(CM.M|C)$ =** **$\\frac{P(C∩CM.M)}{P(C)}$**\n",
    "\n",
    "- **$P(CM.A|C)$ =** **$\\frac{P(C∩CM.A)}{P(C)}$**\n",
    "\n",
    "- **$P(CM.MA|C)$ =** **$\\frac{P(C∩CM.MA)}{P(C)}$**\n",
    "\n",
    "Se debe calcular aquellos valores desconocidos para posteriormente calcular las probabilidades condicionadas."
   ]
  },
  {
   "cell_type": "code",
   "execution_count": 30,
   "metadata": {},
   "outputs": [
    {
     "name": "stdout",
     "output_type": "stream",
     "text": [
      "0.2692\n",
      "0.1949\n",
      "0.323\n",
      "0.2128\n"
     ]
    }
   ],
   "source": [
    "prob_CM_bajo = CM_bajo/cant_total\n",
    "prob_CM_medio = CM_medio/cant_total\n",
    "prob_CM_alto = CM_alto/cant_total\n",
    "prob_CM_muy_alto = CM_muy_alto/cant_total\n",
    "print(round(prob_CM_bajo,4))\n",
    "print(round(prob_CM_medio,4))\n",
    "print(round(prob_CM_alto,4))\n",
    "print(round(prob_CM_muy_alto,4))"
   ]
  },
  {
   "cell_type": "markdown",
   "metadata": {},
   "source": [
    "Tenemos :\n",
    "- **$P(CM.B)= 0.2692$**\n",
    "- **$P(CM.M)= 0.1949$**\n",
    "- **$P(CM.A)= 0.3230$**\n",
    "- **$P(CM.MA)= 0.2128$**"
   ]
  },
  {
   "cell_type": "markdown",
   "metadata": {},
   "source": [
    "### Intersecciones :"
   ]
  },
  {
   "cell_type": "code",
   "execution_count": 31,
   "metadata": {},
   "outputs": [
    {
     "name": "stdout",
     "output_type": "stream",
     "text": [
      "0.0329\n",
      "0.0422\n",
      "0.1188\n",
      "0.0714\n"
     ]
    }
   ],
   "source": [
    "prob_churn_CM_bajo = churn_CM_bajo/cant_total\n",
    "prob_churn_CM_medio = churn_CM_medio/cant_total\n",
    "prob_churn_CM_alto = churn_CM_alto/cant_total\n",
    "prob_churn_CM_muy_alto = churn_CM_muy_alto/cant_total\n",
    "print(round(prob_churn_CM_bajo,4))\n",
    "print(round(prob_churn_CM_medio,4))\n",
    "print(round(prob_churn_CM_alto,4))\n",
    "print(round(prob_churn_CM_muy_alto,4))"
   ]
  },
  {
   "cell_type": "markdown",
   "metadata": {},
   "source": [
    "Tenemos :\n",
    "- **$P(C∩CM.B)= 0.0329$**\n",
    "- **$P(C∩CM.M)= 0.0422$**\n",
    "- **$P(C∩CM.A)= 0.1188$**\n",
    "- **$P(C∩CM.MA)= 0.0714$**"
   ]
  },
  {
   "cell_type": "markdown",
   "metadata": {},
   "source": [
    "#### Primera pregunta :\n",
    "\n",
    "### Condicionadas :"
   ]
  },
  {
   "cell_type": "code",
   "execution_count": 23,
   "metadata": {},
   "outputs": [
    {
     "name": "stdout",
     "output_type": "stream",
     "text": [
      "0.12236286919831225\n",
      "0.2163146394756009\n",
      "0.3679120879120879\n",
      "0.3355570380253502\n"
     ]
    }
   ],
   "source": [
    "prob_churn_dado_CM_bajo = prob_churn_CM_bajo/prob_CM_bajo\n",
    "prob_churn_dado_CM_medio = prob_churn_CM_medio/prob_CM_medio\n",
    "prob_churn_dado_CM_alto = prob_churn_CM_alto/prob_CM_alto\n",
    "prob_churn_dado_CM_muy_alto = prob_churn_CM_muy_alto/prob_CM_muy_alto\n",
    "print(prob_churn_dado_CM_bajo)\n",
    "print(prob_churn_dado_CM_medio)\n",
    "print(prob_churn_dado_CM_alto)\n",
    "print(prob_churn_dado_CM_muy_alto)"
   ]
  },
  {
   "cell_type": "markdown",
   "metadata": {},
   "source": [
    "Los resultados obtenidos son:\n",
    "\n",
    "- **$P(C|CM.B) = 0.1224$**\n",
    "- **$P(C|CM.M) = 0.2163$**\n",
    "- **$P(C|CM.A) = 0.3679$**\n",
    "- **$P(C|CM.MA) = 0.3356$**\n",
    "\n",
    "Por sí solas , las probabilidades de fuga dado que tienen una cierta clasificación de cargo mensual, no son lo suficientes lejanas unas de otras para concluir que existe una clasificación mas propensa a la fuga. Sin embargo, si tomamos las dos primeras probabilidades y las dos últimas, podemos realizar una mejor conclusión, pues los que se obtienen son lejanas entre sí, las probabilidades resultantes son:\n",
    "\n",
    "- **$P(C|CM.B)+P(C|CM.M) = 0.3387$**\n",
    "- **$P(C|CM.A)+P(C|CM.MA) = 0.7035$**\n",
    "\n",
    "Ahora sí podemos concluir que las personas que tienen un cargo mensual mayor a 68.25, son más propensas a la fuga."
   ]
  },
  {
   "cell_type": "markdown",
   "metadata": {},
   "source": [
    "#### Segunda pregunta :\n",
    "\n",
    "### Condicionadas :"
   ]
  },
  {
   "cell_type": "code",
   "execution_count": 36,
   "metadata": {},
   "outputs": [
    {
     "name": "stdout",
     "output_type": "stream",
     "text": [
      "0.1241\n",
      "0.1589\n",
      "0.4478\n",
      "0.2691\n"
     ]
    }
   ],
   "source": [
    "prob_CM_bajo_dado_churn = prob_churn_CM_bajo/prob_churn\n",
    "prob_CM_medio_dado_churn = prob_churn_CM_medio/prob_churn\n",
    "prob_CM_alto_dado_churn = prob_churn_CM_alto/prob_churn\n",
    "prob_CM_muy_alto_dado_churn = prob_churn_CM_muy_alto/prob_churn\n",
    "print(round(prob_CM_bajo_dado_churn,4))\n",
    "print(round(prob_CM_medio_dado_churn,4))\n",
    "print(round(prob_CM_alto_dado_churn,4))\n",
    "print(round(prob_CM_muy_alto_dado_churn,4))"
   ]
  },
  {
   "cell_type": "markdown",
   "metadata": {},
   "source": [
    "Los resultados obtenidos son:\n",
    "\n",
    "- **$P(CM.B|C) = 0.1241$**\n",
    "- **$P(CM.M|C) = 0.1589$**\n",
    "- **$P(CM.A|C) = 0.4478$**\n",
    "- **$P(CM.MA|C) = 0.2691$**\n",
    "\n",
    "Por sí solas , las probabilidades de que tienen una cierta clasificación de cargo mensual dado que se fuga, no son lo suficientes lejanas unas de otras para concluir que si se fuga una persona, esta lo hace por estar en cierta clasificación de cargo mensual. Sin embargo, si tomamos las dos primeras probabilidades y las dos últimas, podemos realizar una mejor conclusión, pues los que se obtienen son lejanas entre sí, las probabilidades resultantes son:\n",
    "\n",
    "- **$P(CM.B|C)+P(CM.M|C) = 0.283$**\n",
    "- **$P(CM.A|C)+P(CM.MA|C) = 0.7169$**\n",
    "\n",
    "Ahora sí podemos concluir que si una persona se fuga, esta persona lo hará porque tienen un cargo mensual mayor a 68.25."
   ]
  },
  {
   "cell_type": "code",
   "execution_count": null,
   "metadata": {},
   "outputs": [],
   "source": []
  },
  {
   "cell_type": "markdown",
   "metadata": {},
   "source": [
    ">e) Utilizando criterios de probabilidad condicional, ¿es el cargo mensual un buen predictor de la estadia de un cliente? y ¿es la estadia del cliente un buen predictor del cargo mensual de este?\n",
    "\n",
    "*Estadia*: tenure"
   ]
  },
  {
   "cell_type": "markdown",
   "metadata": {},
   "source": [
    "## RESPUESTA e) :"
   ]
  },
  {
   "cell_type": "markdown",
   "metadata": {},
   "source": [
    "Como vimos en el caso anterior, es mejor dividir el cargo mensual en dos grupos que los llamare como:\n",
    "\n",
    "- Cargo mensual alto : > 68.25\n",
    "- Cargo mensual bajo : <= 68.25\n",
    "\n",
    "Para el caso de la estadía se dividirá en dos grupos igualmente:\n",
    "\n",
    "- Estadía alta: > 36\n",
    "- Estadía baja: <= 36\n",
    "\n",
    "## Eventos :\n",
    "\n",
    "1. **$EB$** : Persona tiene una estadía baja\n",
    "2. **$EA$** : Persona tiene una estadía alta\n",
    "3. **$CM.B$** : Persona tiene cargo mensual bajo\n",
    "4. **$CM.A$** : Persona tiene cargo mensual alto\n",
    "\n",
    "Las probabilidades que se van a calcular para responder la primera pregunta, son:\n",
    "\n",
    "- **$P(EA|CM.B)$ =** **$\\frac{P(C∩CM.B)}{P(CM.B)}$**\n",
    "\n",
    "- **$P(EA|CM.A)$ =** **$\\frac{P(EA∩CM.A)}{P(CM.A)}$**\n",
    "\n",
    "- **$P(EB|CM.B)$ =** **$\\frac{P(EB∩CM.B)}{P(CM.B)}$**\n",
    "\n",
    "- **$P(EB|CM.A)$ =** **$\\frac{P(EB∩CM.A)}{P(CM.A)}$**\n",
    "\n",
    "Las probabilidades que se van a calcular para responder la primera pregunta, son:\n",
    "\n",
    "- **$P(CM.B|EA)$ =** **$\\frac{P(CM.B∩EA)}{P(EA)}$**\n",
    "\n",
    "- **$P(CM.A|EA)$ =** **$\\frac{P(CM.A∩EA)}{P(EA)}$**\n",
    "\n",
    "- **$P(CM.B|EB)$ =** **$\\frac{P(CM.B∩EB)}{P(EB)}$**\n",
    "\n",
    "- **$P(CM.A|EB)$ =** **$\\frac{P(CM.A∩EB)}{P(EB)}$**\n",
    "\n",
    "Se debe calcular aquellos valores desconocidos para posteriormente calcular las probabilidades condicionadas."
   ]
  },
  {
   "cell_type": "code",
   "execution_count": 38,
   "metadata": {},
   "outputs": [
    {
     "name": "stdout",
     "output_type": "stream",
     "text": [
      "0.4641\n",
      "0.5359\n",
      "0.5739\n",
      "0.4261\n"
     ]
    }
   ],
   "source": [
    "prob_CM_bajo = (CM_bajo + CM_medio)/cant_total\n",
    "prob_CM_alto = (CM_alto + CM_muy_alto)/cant_total\n",
    "prob_estadía_baja = estadia_baja/cant_total\n",
    "prob_estadía_alta = estadia_alta/cant_total\n",
    "print(round(prob_CM_bajo,4))\n",
    "print(round(prob_CM_alto,4))\n",
    "print(round(prob_estadía_baja,4))\n",
    "print(round(prob_estadía_alta,4))"
   ]
  },
  {
   "cell_type": "markdown",
   "metadata": {},
   "source": [
    "Tenemos :\n",
    "- **$P(CM.B)= 0.4641$**\n",
    "- **$P(CM.A)= 0.5359$**\n",
    "- **$P(EB)= 0.5739$**\n",
    "- **$P(EA)= 0.4261$**"
   ]
  },
  {
   "cell_type": "markdown",
   "metadata": {},
   "source": [
    "### Intersecciones :"
   ]
  },
  {
   "cell_type": "code",
   "execution_count": 41,
   "metadata": {},
   "outputs": [
    {
     "name": "stdout",
     "output_type": "stream",
     "text": [
      "0.1282\n",
      "0.4457\n",
      "0.0667\n",
      "0.3594\n"
     ]
    }
   ],
   "source": [
    "prob_EB_CM_bajo = eb_CM_B/cant_total\n",
    "prob_EA_CM_bajo = ea_CM_B/cant_total\n",
    "prob_EB_CM_alto = eb_CM_A/cant_total\n",
    "prob_EA_CM_alto = ea_CM_A/cant_total\n",
    "print(round(prob_EB_CM_bajo,4))\n",
    "print(round(prob_EB_CM_alto,4))\n",
    "print(round(prob_EA_CM_bajo,4))\n",
    "print(round(prob_EA_CM_alto,4))"
   ]
  },
  {
   "cell_type": "markdown",
   "metadata": {},
   "source": [
    "Tenemos :\n",
    "- **$P(EB∩CM.B)= 0.1281$**\n",
    "- **$P(EA∩CM.B)= 0.4457$**\n",
    "- **$P(EB∩CM.A)= 0.0667$**\n",
    "- **$P(EA∩CM.A)= 0.3594$**"
   ]
  },
  {
   "cell_type": "markdown",
   "metadata": {},
   "source": [
    "#### Primera pregunta :\n",
    "\n",
    "### Condicionadas :"
   ]
  },
  {
   "cell_type": "code",
   "execution_count": 42,
   "metadata": {},
   "outputs": [
    {
     "name": "stdout",
     "output_type": "stream",
     "text": [
      "0.2762\n",
      "0.1438\n",
      "0.8317\n",
      "0.6706\n"
     ]
    }
   ],
   "source": [
    "prob_EB_dado_CM_bajo = prob_EB_CM_bajo/prob_CM_bajo\n",
    "prob_EA_dado_CM_bajo = prob_EA_CM_bajo/prob_CM_bajo\n",
    "prob_EB_dado_CM_alto = prob_EB_CM_alto/prob_CM_alto\n",
    "prob_EA_dado_CM_alto = prob_EA_CM_alto/prob_CM_alto\n",
    "print(round(prob_EB_dado_CM_bajo,4))\n",
    "print(round(prob_EA_dado_CM_bajo,4))\n",
    "print(round(prob_EB_dado_CM_alto,4))\n",
    "print(round(prob_EA_dado_CM_alto,4))"
   ]
  },
  {
   "cell_type": "markdown",
   "metadata": {},
   "source": [
    "Los resultados obtenidos son:\n",
    "\n",
    "- **$P(EB|CM.B) = 0.2762$**\n",
    "- **$P(EA|CM.B) = 0.1438$**\n",
    "- **$P(EB|CM.A) = 0.8317$**\n",
    "- **$P(EA|CM.A) = 0.6706$**\n",
    "\n",
    "Podemos observar que la probabilidad de que una se mantenga por poco tiempo dado que tienen un cargo mensual alta, es muy alta. Por lo tanto, se puede concluir que sí, que las personas que tienen un cargo mensual alto, tienden a mantenerse por poco tiempo. Mientras que las personas que tienen un cargo mensual bajo, tiene muy poca tendencia a mantenerse por poco tiempo."
   ]
  },
  {
   "cell_type": "markdown",
   "metadata": {},
   "source": [
    "#### Segunda pregunta :\n",
    "\n",
    "### Condicionadas :"
   ]
  },
  {
   "cell_type": "code",
   "execution_count": 43,
   "metadata": {},
   "outputs": [
    {
     "name": "stdout",
     "output_type": "stream",
     "text": [
      "0.2234\n",
      "0.7766\n",
      "0.1566\n",
      "0.8434\n"
     ]
    }
   ],
   "source": [
    "prob_CM_bajo_dado_EB = prob_EB_CM_bajo/prob_estadía_baja\n",
    "prob_CM_alto_dado_EB = prob_EB_CM_alto/prob_estadía_baja\n",
    "prob_CM_bajo_dado_EA = prob_EA_CM_bajo/prob_estadía_alta\n",
    "prob_CM_alto_dado_EA = prob_EA_CM_alto/prob_estadía_alta\n",
    "print(round(prob_CM_bajo_dado_EB,4))\n",
    "print(round(prob_CM_alto_dado_EB,4))\n",
    "print(round(prob_CM_bajo_dado_EA,4))\n",
    "print(round(prob_CM_alto_dado_EA,4))"
   ]
  },
  {
   "cell_type": "markdown",
   "metadata": {},
   "source": [
    "Los resultados obtenidos son:\n",
    "\n",
    "- **$P(CM.B|EB) = 0.2234$**\n",
    "- **$P(CM.A|EB) = 0.7766$**\n",
    "- **$P(CM.B|EA) = 0.1566$**\n",
    "- **$P(CM.A|EA) = 0.8434$**\n",
    "\n",
    "Se puede concluir que si una persona tiene una estadía baja o alta, es más probable a que esa persona provenga de un cargo mensual mayor a 68.25"
   ]
  },
  {
   "cell_type": "code",
   "execution_count": null,
   "metadata": {},
   "outputs": [],
   "source": []
  },
  {
   "cell_type": "markdown",
   "metadata": {},
   "source": [
    "## 2. Máquina de Rube Goldberg\n",
    "\n",
    "Una máquina de Rube Goldberg es un artefacto extremadamente complejo que realiza una tarea fácil. Usted, en su tiempo libre, decidió construir uno de estos artefactos que consta de 5 etapas:\n",
    "\n",
    "<ol>\n",
    "    <li>Lanza una bolita que rueda por un riel con una probabilidad de $\\dfrac{2}{5}$ de caerse</li>\n",
    "    <li>Después de rodar por el riel cae en una catapulta que la lanza en la dirección correcta el $60\\%$ de las veces</li>\n",
    "    <li>Impacta contra una tela que le frena el impulso y la hace caer sobre el interruptor de un ventilador, el $80\\%$ de las veces es capaz de activar el ventilador</li>\n",
    "    <li>Cuando el ventilador se activa empuja un barco de juguete en una fuente con agua hasta el otro extremo de esta para empujar otra bolita, el barco llega con suficiente impulso con una probabilidad de $\\dfrac{6}{9}$</li>\n",
    "    <li>Esta bolita rueda por otro riel y cae sobre el control remoto que enciende su televisor, en un $30\\%$ de las veces logra encenderlo</li>\n",
    "</ol>\n",
    "\n",
    ">a) Usted quiere subir su máquina de Rube Goldberg a Youtube™, estime cuántas veces (en promedio) tendrá que poner en marcha su máquina hasta que resulte por primera vez en video. A su vez, haga un gráfico mostrando la probabilidad de no tener éxito en función del número de puestas en marcha de la máquina y comente."
   ]
  },
  {
   "cell_type": "markdown",
   "metadata": {},
   "source": [
    "## Eventos :\n",
    "\n",
    "1. **$P1$** : La bola pasa la primera etapa.\n",
    "2. **$P2$** : La bola pasa la segunda etapa.\n",
    "3. **$P3$** : La bola pasa la tercera etapa.\n",
    "4. **$P4$** : La bola pasa la cuarta etapa.\n",
    "5. **$P5$** : La bola pasa la quinta etapa.\n",
    "\n",
    "Por datos dados en el enunciado, tenemos que:\n",
    "\n",
    "- **$P(P1) = 0.6$**\n",
    "- **$P(P1') = 0.4$**\n",
    "- **$P(P2) = 0.6$**\n",
    "- **$P(P2') = 0.4$**\n",
    "- **$P(P3) = 0.8$**\n",
    "- **$P(P3') = 0.2$**\n",
    "- **$P(P4) = 0.67$**\n",
    "- **$P(P4') = 0.33$**\n",
    "- **$P(P5) = 0.3$**\n",
    "- **$P(P5') = 0.7$**"
   ]
  },
  {
   "cell_type": "markdown",
   "metadata": {},
   "source": [
    "#### Primera pregunta :"
   ]
  },
  {
   "cell_type": "code",
   "execution_count": 44,
   "metadata": {},
   "outputs": [],
   "source": [
    "from ipywidgets import interact \n",
    "import matplotlib.pyplot as plt\n",
    "import seaborn as sns\n",
    "import numpy as np\n",
    "sns.set()\n",
    "%matplotlib inline"
   ]
  },
  {
   "cell_type": "code",
   "execution_count": 45,
   "metadata": {},
   "outputs": [],
   "source": [
    "''' Con los datos definidosa anteriormente podemos simular las repeticiones que tiene que hacer la máquina\n",
    "escogiendo un x por cada etapa que pase y tomará un valor boleano True(Pasa la etapa) o False(No pasa la etapa)\n",
    "dependiendo de la probabilidad de pasar o no pasar cada etapa y se cuenta la cantidad de veces en la que\n",
    "pasa todo el circuito ''' \n",
    "\n",
    "def repeticiones():\n",
    "    i = 0\n",
    "    while i > -1:\n",
    "        x = np.random.choice([True,False], p = [0.6,0.4])\n",
    "        if x:\n",
    "            x = np.random.choice([True,False], p = [0.6,0.4])\n",
    "            if x:\n",
    "                x = np.random.choice([True,False], p = [0.8,0.2])\n",
    "                if x:\n",
    "                    x = np.random.choice([True,False], p = [0.67,0.33])\n",
    "                    if x:\n",
    "                        x = np.random.choice([True,False], p = [0.3,0.7])\n",
    "                        if x:\n",
    "                            return i+1\n",
    "        i += 1"
   ]
  },
  {
   "cell_type": "code",
   "execution_count": 46,
   "metadata": {},
   "outputs": [],
   "source": [
    "''' Casi lo mismo que el anterior, solo que ahora le damos una cantidad de iteraciones n y retornamos\n",
    "la probabilidad de que pase todo el circuito'''\n",
    "\n",
    "def prob_pasa(n):\n",
    "    if n==0:\n",
    "        return 0\n",
    "    cont=0\n",
    "    for i in range(n):\n",
    "        x = np.random.choice([True,False], p = [0.6,0.4])\n",
    "        if x:\n",
    "            x = np.random.choice([True,False], p = [0.6,0.4])\n",
    "            if x:\n",
    "                x = np.random.choice([True,False], p = [0.8,0.2])\n",
    "                if x:\n",
    "                    x = np.random.choice([True,False], p = [0.67,0.33])\n",
    "                    if x:\n",
    "                        x = np.random.choice([True,False], p = [0.3,0.7])\n",
    "                        if x:\n",
    "                            cont+=1\n",
    "    return cont/n"
   ]
  },
  {
   "cell_type": "code",
   "execution_count": 47,
   "metadata": {},
   "outputs": [
    {
     "name": "stdout",
     "output_type": "stream",
     "text": [
      "17.2676\n"
     ]
    }
   ],
   "source": [
    "suma=0\n",
    "for _ in range(10000):\n",
    "    suma += repeticiones()\n",
    "print(suma/10000)"
   ]
  },
  {
   "cell_type": "markdown",
   "metadata": {},
   "source": [
    "En promedio se deberá poner en marcha la máquina **17 veces** para que resulte el vídeo."
   ]
  },
  {
   "cell_type": "code",
   "execution_count": 48,
   "metadata": {},
   "outputs": [
    {
     "data": {
      "text/plain": [
       "[<matplotlib.lines.Line2D at 0x7fe477280b00>]"
      ]
     },
     "execution_count": 48,
     "metadata": {},
     "output_type": "execute_result"
    },
    {
     "data": {
      "image/png": "[encoded data removed]",
      "text/plain": [
       "<Figure size 1224x360 with 1 Axes>"
      ]
     },
     "metadata": {
      "needs_background": "light"
     },
     "output_type": "display_data"
    }
   ],
   "source": [
    "values=list()\n",
    "x=1000\n",
    "for i in range(x):\n",
    "    values.append(1-prob_pasa(i))\n",
    "plt.rcParams['figure.figsize']=[17,5]\n",
    "plt.plot(np.arange(x),values)"
   ]
  },
  {
   "cell_type": "markdown",
   "metadata": {},
   "source": [
    "En el gráfico se puede observar que la probabilidad de no tener éxito se mantiene bastante alta, y mientras más veces se pone en marcha la máquina, se ve que la probabilidad va tendiendo a **0.95**."
   ]
  },
  {
   "cell_type": "code",
   "execution_count": null,
   "metadata": {},
   "outputs": [],
   "source": []
  },
  {
   "cell_type": "markdown",
   "metadata": {},
   "source": [
    "> b) Si usted cuenta con 1000 bolitas, estime tanto téorica como empíricamente cuántas bolitas fallan en cada estapa. Compare sus resultados obtenidos.\n",
    "\n",
    "*Recuerde que habrá una cantidad de bolitas que no fallarán*"
   ]
  },
  {
   "cell_type": "markdown",
   "metadata": {},
   "source": [
    "## Respuesta b) :\n",
    "\n",
    "1. **$F1$** : La bola falla en la primera etapa\n",
    "2. **$F2$** : La bola falla en la segunda etapa\n",
    "3. **$F3$** : La bola falla en la tercera etapa\n",
    "4. **$F4$** : La bola falla en la cuarta etapa\n",
    "5. **$F5$** : La bola falla en la quinta etapa\n",
    "\n",
    "\n",
    "#### Teróricamente :\n",
    "\n",
    "Como los eventos de la máquina son independientes, se puede realizar la multiplicación de cada evento en la que la bola pasa y no pasa la etapa, tenemos lo siguiente:\n",
    "\n",
    "- **$P(F1)= P(P1) = 0.4$**\n",
    "- **$P(F2)= P(P2)* P(P1') = 0.4 * 0.6 = 0.24$**\n",
    "- **$P(F3)= P(P3)*P(P2')*P(P1') = 0.2 * 0.6 * 0.6 = 0.072 $**\n",
    "- **$P(F4)= P(P4)*P(P3')*P(P2')*P(P1') = 0.33 * 0.8 * 0.6 * 0.6 = 0.096$**\n",
    "- **$P(F5)= P(P5)*P(P4')*P(P3')*P(P2')*P(P1') = 0.7* 0.67 * 0.8 * 0.6 * 0.6 = 0.134$**\n",
    "\n",
    "\n",
    "Considerando que se tienen 1000 bolitas, se esperaría que la cantidad de bolitas que fallen en las distintas etapas sean las siguientes:\n",
    "\n",
    "- Primera etapa: 0.4 \\* 1000 = **400**  \n",
    "- Segunda etapa: 0.24 \\* 1000 = **240**  \n",
    "- Tercera etapa: 0.072 \\* 1000 = **72**  \n",
    "- Cuarta etapa: 0.096 \\* 1000 = **96**  \n",
    "- Quinta etapa: 0.134 \\* 1000 = **134**"
   ]
  },
  {
   "cell_type": "markdown",
   "metadata": {},
   "source": [
    "#### Empíricamente :"
   ]
  },
  {
   "cell_type": "code",
   "execution_count": 50,
   "metadata": {},
   "outputs": [
    {
     "name": "stdout",
     "output_type": "stream",
     "text": [
      "[415, 225, 63, 96, 145]\n"
     ]
    }
   ],
   "source": [
    "def fallas():\n",
    "    res=[0,0,0,0,0]\n",
    "    for i in range(1000):\n",
    "        x = np.random.choice([True,False], p = [0.6,0.4])\n",
    "        if x:\n",
    "            x = np.random.choice([True,False], p = [0.6,0.4])\n",
    "            if x:\n",
    "                x = np.random.choice([True,False], p = [0.8,0.2])\n",
    "                if x:\n",
    "                    x = np.random.choice([True,False], p = [0.67,0.33])\n",
    "                    if x:\n",
    "                        x = np.random.choice([True,False], p = [0.3,0.7])\n",
    "                        if not x:\n",
    "                            res[4]+=1\n",
    "                    else:\n",
    "                        res[3]+=1\n",
    "                else:\n",
    "                    res[2]+=1\n",
    "            else:\n",
    "                res[1]+=1\n",
    "        else:\n",
    "            res[0]+=1\n",
    "    return res\n",
    "fl=fallas()\n",
    "print (fl)"
   ]
  },
  {
   "cell_type": "markdown",
   "metadata": {},
   "source": [
    "Después de realizar la simulación, se obtuvo que las bolitas que fallan en cada etapa son:  \n",
    "- Primera: **415**  \n",
    "- Segunda: **225**  \n",
    "- Tercera: **63**  \n",
    "- Cuarta: **96**  \n",
    "- Quinta: **145**  \n",
    "\n",
    "Así, se puede observar que existe una leve variación en los valores teóricos con los empíricos, sin embargo se observa que los valores son muy cercanos."
   ]
  },
  {
   "cell_type": "code",
   "execution_count": null,
   "metadata": {},
   "outputs": [],
   "source": []
  },
  {
   "cell_type": "markdown",
   "metadata": {},
   "source": [
    "> c) Determine la función de probabilidad que rige este fenómeno según todos los estados posibles de la bolita"
   ]
  },
  {
   "cell_type": "markdown",
   "metadata": {},
   "source": [
    "## RESPUESTA c) :"
   ]
  },
  {
   "cell_type": "markdown",
   "metadata": {},
   "source": [
    "Se puede observar que los valores calculados en la parte teórica de la pregunta *b)* corresponden a la función de probabilidad de una bolita en particular.\n",
    "\n",
    "Sea $X$ la cantidad de etapas que una bolita pasa, su función de probabilidad se define como:  \n",
    "\n",
    "$f(X=0)=0.4$  \n",
    "$f(X=1)=0.24$  \n",
    "$f(X=2)=0.072$  \n",
    "$f(X=3)=0.096$  \n",
    "$f(X=4)=0.134$  \n",
    "$f(X=5)=0.058$"
   ]
  },
  {
   "cell_type": "markdown",
   "metadata": {},
   "source": [
    ">d) Genere 1000 valores aleatorios que sigan la función de probabilidad que encontró en c), haga un histograma y compare con lo obtenido en b)"
   ]
  },
  {
   "cell_type": "markdown",
   "metadata": {},
   "source": [
    "## RESPUESTA d) :"
   ]
  },
  {
   "cell_type": "code",
   "execution_count": 52,
   "metadata": {},
   "outputs": [
    {
     "name": "stdout",
     "output_type": "stream",
     "text": [
      "[411, 238, 75, 85, 134, 57]\n"
     ]
    },
    {
     "data": {
      "text/plain": [
       "(array([411., 238.,  75.,  85., 134.,  57.]),\n",
       " array([0, 1, 2, 3, 4, 5, 6]),\n",
       " <a list of 6 Patch objects>)"
      ]
     },
     "execution_count": 52,
     "metadata": {},
     "output_type": "execute_result"
    },
    {
     "data": {
      "image/png": "[encoded data removed]",
      "text/plain": [
       "<Figure size 360x360 with 1 Axes>"
      ]
     },
     "metadata": {
      "needs_background": "light"
     },
     "output_type": "display_data"
    }
   ],
   "source": [
    "prob=[0,0,0,0,0,0]\n",
    "for i in range(1000):\n",
    "    x = np.random.choice([0,1,2,3,4,5], p = [0.4,0.24,0.072,0.096,0.134,0.058])\n",
    "    prob[x]+=1\n",
    "print(prob)\n",
    "plt.rcParams['figure.figsize']=[5,5]\n",
    "plt.hist(np.arange(6), bins=[0,1,2,3,4,5,6], weights=prob)"
   ]
  },
  {
   "cell_type": "code",
   "execution_count": 53,
   "metadata": {},
   "outputs": [
    {
     "data": {
      "text/plain": [
       "(array([415., 225.,  63.,  96., 145.]),\n",
       " array([0, 1, 2, 3, 4, 5]),\n",
       " <a list of 5 Patch objects>)"
      ]
     },
     "execution_count": 53,
     "metadata": {},
     "output_type": "execute_result"
    },
    {
     "data": {
      "image/png": "[encoded data removed]",
      "text/plain": [
       "<Figure size 360x360 with 1 Axes>"
      ]
     },
     "metadata": {
      "needs_background": "light"
     },
     "output_type": "display_data"
    }
   ],
   "source": [
    "plt.hist(np.arange(5), bins=[0,1,2,3,4,5], weights=fl)"
   ]
  },
  {
   "cell_type": "markdown",
   "metadata": {},
   "source": [
    "Comparando los primeros 5 intervalos del primer histograma, que corresponde a los valores generados a partir de la función de probabilidad, con los del segundo, que corresponde a los valores obtenidos en la parte *b)*, podemos concluir que estos son bastante cercanos, con una leve diferencia entre ambos, lo que significa que la función de probabilidad obtenida es correcta, y que las bolitas siguen aquella función."
   ]
  },
  {
   "cell_type": "code",
   "execution_count": null,
   "metadata": {},
   "outputs": [],
   "source": []
  },
  {
   "cell_type": "markdown",
   "metadata": {},
   "source": [
    "## 3. Perritos Enfermos\n",
    "\n",
    "Usted trabaja en un refugio de animales que se especializa en recibir perros, además de contar con el equipo necesario para tratar con enfermedades que estos puedan presentar. Viendo las noticias se enteró que un virus sumamente peligroso para los perros se está expandiendo rápidamente por la zona y sospecha que algunos de los perros bajo su cuidado pueden estar infectados pero, no presentan un síntoma de momento. Para suerte suya este virus tiene cura hace tiempo y cuenta con el equipo para analizar muestras de saliva para detectar qué perro está infectado con el virus o no.\n",
    "\n",
    "Usted tiene 500 perros, para no hacer la prueba 1 a 1 ha decidido juntar muestras de saliva en grupos de $K$ perros (con $K$ siendo un divisor de 500), y en caso de que el examen arroje positivo hará la prueba 1 a 1 del grupo. Asuma que 8 perros están infectados, pero usted no sabe esto a priori.\n",
    "\n",
    ">a) ¿Es posible determinar **teóricamente** un $K$ tal que la cantidad de veces que se realiza la prueba sea la menor posible? De ser así, encuentre dicho K. ¿Qué distribución es comparable a este fenómeno?"
   ]
  },
  {
   "cell_type": "markdown",
   "metadata": {},
   "source": [
    "## RESPUESTA 3.a)\n",
    "\n",
    "Se pide determinar **teóricamente** un $K$ que minimice la cantidad de pruebas, para ello se establece las siguientes variables :\n",
    "\n",
    "**$I$** = Cantidad de perros infectados en una muestra K\n",
    "\n",
    "**$K$** = Muestras de k perros\n",
    "\n",
    "Por enunciado, tenemos que nuestra **poblacion** es de **500 perros** y que existe una cantidad de **8 perros enfermos** en la población. Podemos observar que **$I$ ~ $Hypergeometric(50,8,K)$** , donde *$R_I$* = {0,1,2,3,4,5,6,7,8} para cada valor de **$K$**. "
   ]
  },
  {
   "cell_type": "code",
   "execution_count": 32,
   "metadata": {},
   "outputs": [
    {
     "name": "stdout",
     "output_type": "stream",
     "text": [
      "[1, 2, 4, 5, 10, 20, 25, 50, 100, 125, 250, 500]\n"
     ]
    }
   ],
   "source": [
    "def divisores(n):\n",
    "    i = 1\n",
    "    divs = list()\n",
    "    while i <= 500:\n",
    "        if 500 % i == 0:\n",
    "            divs.append(i)\n",
    "        i+=1\n",
    "    return divs\n",
    "divs = divisores(500)\n",
    "print(divs)"
   ]
  },
  {
   "cell_type": "markdown",
   "metadata": {},
   "source": [
    "El **$R_k$** = {1,2,4,5,10,20,25,50,100,125,250,500}"
   ]
  },
  {
   "cell_type": "code",
   "execution_count": 21,
   "metadata": {
    "scrolled": false
   },
   "outputs": [
    {
     "name": "stdout",
     "output_type": "stream",
     "text": [
      "Para k =  1 \n",
      "\n",
      "La probabilidad de encontrar 0 perros infectados en un grupo de 1 perros es: 0.9840000000002177 \n",
      "\n",
      "La probabilidad de encontrar 1 perros infectados en un grupo de 1 perros es: 0.016000000000001374 \n",
      "\n",
      "La probabilidad de encontrar 2 perros infectados en un grupo de 1 perros es: 0.0 \n",
      "\n",
      "La probabilidad de encontrar 3 perros infectados en un grupo de 1 perros es: 0.0 \n",
      "\n",
      "La probabilidad de encontrar 4 perros infectados en un grupo de 1 perros es: 0.0 \n",
      "\n",
      "La probabilidad de encontrar 5 perros infectados en un grupo de 1 perros es: 0.0 \n",
      "\n",
      "La probabilidad de encontrar 6 perros infectados en un grupo de 1 perros es: 0.0 \n",
      "\n",
      "La probabilidad de encontrar 7 perros infectados en un grupo de 1 perros es: 0.0 \n",
      "\n",
      "La probabilidad de encontrar 8 perros infectados en un grupo de 1 perros es: 0.0 \n",
      "\n",
      "Para k =  2 \n",
      "\n",
      "La probabilidad de encontrar 0 perros infectados en un grupo de 2 perros es: 0.9682244488979768 \n",
      "\n",
      "La probabilidad de encontrar 1 perros infectados en un grupo de 2 perros es: 0.031551102204417064 \n",
      "\n",
      "La probabilidad de encontrar 2 perros infectados en un grupo de 2 perros es: 0.00022444889779561902 \n",
      "\n",
      "La probabilidad de encontrar 3 perros infectados en un grupo de 2 perros es: 0.0 \n",
      "\n",
      "La probabilidad de encontrar 4 perros infectados en un grupo de 2 perros es: 0.0 \n",
      "\n",
      "La probabilidad de encontrar 5 perros infectados en un grupo de 2 perros es: 0.0 \n",
      "\n",
      "La probabilidad de encontrar 6 perros infectados en un grupo de 2 perros es: 0.0 \n",
      "\n",
      "La probabilidad de encontrar 7 perros infectados en un grupo de 2 perros es: 0.0 \n",
      "\n",
      "La probabilidad de encontrar 8 perros infectados en un grupo de 2 perros es: 0.0 \n",
      "\n",
      "Para k =  4 \n",
      "\n",
      "La probabilidad de encontrar 0 perros infectados en un grupo de 4 perros es: 0.937335903777426 \n",
      "\n",
      "La probabilidad de encontrar 1 perros infectados en un grupo de 4 perros es: 0.06133895484844493 \n",
      "\n",
      "La probabilidad de encontrar 2 perros infectados en un grupo de 4 perros es: 0.001314406175323507 \n",
      "\n",
      "La probabilidad de encontrar 3 perros infectados en un grupo de 4 perros es: 1.0707993281658652e-05 \n",
      "\n",
      "La probabilidad de encontrar 4 perros infectados en un grupo de 4 perros es: 2.7205267483885187e-08 \n",
      "\n",
      "La probabilidad de encontrar 5 perros infectados en un grupo de 4 perros es: 0.0 \n",
      "\n",
      "La probabilidad de encontrar 6 perros infectados en un grupo de 4 perros es: 0.0 \n",
      "\n",
      "La probabilidad de encontrar 7 perros infectados en un grupo de 4 perros es: 0.0 \n",
      "\n",
      "La probabilidad de encontrar 8 perros infectados en un grupo de 4 perros es: 0.0 \n",
      "\n",
      "Para k =  5 \n",
      "\n",
      "La probabilidad de encontrar 0 perros infectados en un grupo de 5 perros es: 0.9222175827489397 \n",
      "\n",
      "La probabilidad de encontrar 1 perros infectados en un grupo de 5 perros es: 0.07559160514336377 \n",
      "\n",
      "La probabilidad de encontrar 2 perros infectados en un grupo de 5 perros es: 0.002164176834371198 \n",
      "\n",
      "La probabilidad de encontrar 3 perros infectados en un grupo de 5 perros es: 2.65001245024982e-05 \n",
      "\n",
      "La probabilidad de encontrar 4 perros infectados en un grupo de 5 perros es: 1.349293508273935e-07 \n",
      "\n",
      "La probabilidad de encontrar 5 perros infectados en un grupo de 5 perros es: 2.193973184184961e-10 \n",
      "\n",
      "La probabilidad de encontrar 6 perros infectados en un grupo de 5 perros es: 0.0 \n",
      "\n",
      "La probabilidad de encontrar 7 perros infectados en un grupo de 5 perros es: 0.0 \n",
      "\n",
      "La probabilidad de encontrar 8 perros infectados en un grupo de 5 perros es: 0.0 \n",
      "\n",
      "Para k =  10 \n",
      "\n",
      "La probabilidad de encontrar 0 perros infectados en un grupo de 10 perros es: 0.8497813540668877 \n",
      "\n",
      "La probabilidad de encontrar 1 perros infectados en un grupo de 10 perros es: 0.14075053483499178 \n",
      "\n",
      "La probabilidad de encontrar 2 perros infectados en un grupo de 10 perros es: 0.009160417039885368 \n",
      "\n",
      "La probabilidad de encontrar 3 perros infectados en un grupo de 10 perros es: 0.00030219932502711537 \n",
      "\n",
      "La probabilidad de encontrar 4 perros infectados en un grupo de 10 perros es: 5.440831469110149e-06 \n",
      "\n",
      "La probabilidad de encontrar 5 perros infectados en un grupo de 10 perros es: 5.3626264993275956e-08 \n",
      "\n",
      "La probabilidad de encontrar 6 perros infectados en un grupo de 10 perros es: 2.7472471820328714e-10 \n",
      "\n",
      "La probabilidad de encontrar 7 perros infectados en un grupo de 10 perros es: 6.420677024911408e-13 \n",
      "\n",
      "La probabilidad de encontrar 8 perros infectados en un grupo de 10 perros es: 4.913783437431037e-16 \n",
      "\n",
      "Para k =  20 \n",
      "\n",
      "La probabilidad de encontrar 0 perros infectados en un grupo de 20 perros es: 0.7196909575985294 \n",
      "\n",
      "La probabilidad de encontrar 1 perros infectados en un grupo de 20 perros es: 0.24344725838416556 \n",
      "\n",
      "La probabilidad de encontrar 2 perros infectados en un grupo de 20 perros es: 0.034154520427328604 \n",
      "\n",
      "La probabilidad de encontrar 3 perros infectados en un grupo de 20 perros es: 0.0025885531271235183 \n",
      "\n",
      "La probabilidad de encontrar 4 perros infectados en un grupo de 20 perros es: 0.00011556040746084679 \n",
      "\n",
      "La probabilidad de encontrar 5 perros infectados en un grupo de 20 perros es: 3.1009920660345194e-06 \n",
      "\n",
      "La probabilidad de encontrar 6 perros infectados en un grupo de 20 perros es: 4.865573325369932e-08 \n",
      "\n",
      "La probabilidad de encontrar 7 perros infectados en un grupo de 20 perros es: 4.0631092487410813e-10 \n",
      "\n",
      "La probabilidad de encontrar 8 perros infectados en un grupo de 20 perros es: 1.3755317769182061e-12 \n",
      "\n",
      "Para k =  25 \n",
      "\n",
      "La probabilidad de encontrar 0 perros infectados en un grupo de 25 perros es: 0.6614477240511724 \n",
      "\n",
      "La probabilidad de encontrar 1 perros infectados en un grupo de 25 perros es: 0.282669967543338 \n",
      "\n",
      "La probabilidad de encontrar 2 perros infectados en un grupo de 25 perros es: 0.05062745687342499 \n",
      "\n",
      "La probabilidad de encontrar 3 perros infectados en un grupo de 25 perros es: 0.00495502769399359 \n",
      "\n",
      "La probabilidad de encontrar 4 perros infectados en un grupo de 25 perros es: 0.0002893062878660143 \n",
      "\n",
      "La probabilidad de encontrar 5 perros infectados en un grupo de 25 perros es: 1.0297342449467966e-05 \n",
      "\n",
      "La probabilidad de encontrar 6 perros infectados en un grupo de 25 perros es: 2.1770280020006396e-07 \n",
      "\n",
      "La probabilidad de encontrar 7 perros infectados en un grupo de 25 perros es: 2.4932810149505714e-09 \n",
      "\n",
      "La probabilidad de encontrar 8 perros infectados en un grupo de 25 perros es: 1.1810278491869516e-11 \n",
      "\n",
      "Para k =  50 \n",
      "\n",
      "La probabilidad de encontrar 0 perros infectados en un grupo de 50 perros es: 0.42776863002597293 \n",
      "\n",
      "La probabilidad de encontrar 1 perros infectados en un grupo de 50 perros es: 0.3862470700010537 \n",
      "\n",
      "La probabilidad de encontrar 2 perros infectados en un grupo de 50 perros es: 0.14919228041700494 \n",
      "\n",
      "La probabilidad de encontrar 3 perros infectados en un grupo de 50 perros es: 0.032185300943882535 \n",
      "\n",
      "La probabilidad de encontrar 4 perros infectados en un grupo de 50 perros es: 0.004239655673662649 \n",
      "\n",
      "La probabilidad de encontrar 5 perros infectados en un grupo de 50 perros es: 0.00034903652973352245 \n",
      "\n",
      "La probabilidad de encontrar 6 perros infectados en un grupo de 50 perros es: 1.7529736426337653e-05 \n",
      "\n",
      "La probabilidad de encontrar 7 perros infectados en un grupo de 50 perros es: 4.908103103779958e-07 \n",
      "\n",
      "La probabilidad de encontrar 8 perros infectados en un grupo de 50 perros es: 5.862456485069579e-09 \n",
      "\n",
      "Para k =  100 \n",
      "\n",
      "La probabilidad de encontrar 0 perros infectados en un grupo de 100 perros es: 0.1654133261309333 \n",
      "\n",
      "La probabilidad de encontrar 1 perros infectados en un grupo de 100 perros es: 0.3367192389436119 \n",
      "\n",
      "La probabilidad de encontrar 2 perros infectados en un grupo de 100 perros es: 0.29612491445145905 \n",
      "\n",
      "La probabilidad de encontrar 3 perros infectados en un grupo de 100 perros es: 0.14693793223425766 \n",
      "\n",
      "La probabilidad de encontrar 4 perros infectados en un grupo de 100 perros es: 0.04499046536212674 \n",
      "\n",
      "La probabilidad de encontrar 5 perros infectados en un grupo de 100 perros es: 0.008703445188439749 \n",
      "\n",
      "La probabilidad de encontrar 6 perros infectados en un grupo de 100 perros es: 0.0010387277549011964 \n",
      "\n",
      "La probabilidad de encontrar 7 perros infectados en un grupo de 100 perros es: 6.991794411798522e-05 \n",
      "\n",
      "La probabilidad de encontrar 8 perros infectados en un grupo de 100 perros es: 2.031990250928533e-06 \n",
      "\n",
      "Para k =  125 \n",
      "\n",
      "La probabilidad de encontrar 0 perros infectados en un grupo de 125 perros es: 0.09823979217558214 \n",
      "\n",
      "La probabilidad de encontrar 1 perros infectados en un grupo de 125 perros es: 0.26695595699874675 \n",
      "\n",
      "La probabilidad de encontrar 2 perros infectados en un grupo de 125 perros es: 0.3139807190717981 \n",
      "\n",
      "La probabilidad de encontrar 3 perros infectados en un grupo de 125 perros es: 0.20875474835586824 \n",
      "\n",
      "La probabilidad de encontrar 4 perros infectados en un grupo de 125 perros es: 0.08580889251824401 \n",
      "\n",
      "La probabilidad de encontrar 5 perros infectados en un grupo de 125 perros es: 0.022328765580013343 \n",
      "\n",
      "La probabilidad de encontrar 6 perros infectados en un grupo de 125 perros es: 0.0035917585383394798 \n",
      "\n",
      "La probabilidad de encontrar 7 perros infectados en un grupo de 125 perros es: 0.00032652350348551105 \n",
      "\n",
      "La probabilidad de encontrar 8 perros infectados en un grupo de 125 perros es: 1.284325780376321e-05 \n",
      "\n",
      "Para k =  250 \n",
      "\n",
      "La probabilidad de encontrar 0 perros infectados en un grupo de 250 perros es: 0.0036903559373749465 \n",
      "\n",
      "La probabilidad de encontrar 1 perros infectados en un grupo de 250 perros es: 0.03037329989609482 \n",
      "\n",
      "La probabilidad de encontrar 2 perros infectados en un grupo de 250 perros es: 0.10848496253867067 \n",
      "\n",
      "La probabilidad de encontrar 3 perros infectados en un grupo de 250 perros es: 0.21962669967022888 \n",
      "\n",
      "La probabilidad de encontrar 4 perros infectados en un grupo de 250 perros es: 0.27564936391541583 \n",
      "\n",
      "La probabilidad de encontrar 5 perros infectados en un grupo de 250 perros es: 0.21962669967022888 \n",
      "\n",
      "La probabilidad de encontrar 6 perros infectados en un grupo de 250 perros es: 0.10848496253867067 \n",
      "\n",
      "La probabilidad de encontrar 7 perros infectados en un grupo de 250 perros es: 0.03037329989609482 \n",
      "\n",
      "La probabilidad de encontrar 8 perros infectados en un grupo de 250 perros es: 0.0036903559373749465 \n",
      "\n",
      "Para k =  500 \n",
      "\n",
      "La probabilidad de encontrar 0 perros infectados en un grupo de 500 perros es: 0.0 \n",
      "\n",
      "La probabilidad de encontrar 1 perros infectados en un grupo de 500 perros es: 0.0 \n",
      "\n",
      "La probabilidad de encontrar 2 perros infectados en un grupo de 500 perros es: 0.0 \n",
      "\n",
      "La probabilidad de encontrar 3 perros infectados en un grupo de 500 perros es: 0.0 \n",
      "\n",
      "La probabilidad de encontrar 4 perros infectados en un grupo de 500 perros es: 0.0 \n",
      "\n",
      "La probabilidad de encontrar 5 perros infectados en un grupo de 500 perros es: 0.0 \n",
      "\n",
      "La probabilidad de encontrar 6 perros infectados en un grupo de 500 perros es: 0.0 \n",
      "\n",
      "La probabilidad de encontrar 7 perros infectados en un grupo de 500 perros es: 0.0 \n",
      "\n",
      "La probabilidad de encontrar 8 perros infectados en un grupo de 500 perros es: 1.0 \n",
      "\n"
     ]
    }
   ],
   "source": [
    "#Este código aplica la función hipergeométrica para cada K y cada I.\n",
    "\n",
    "from scipy.stats import hypergeom\n",
    "import numpy as np\n",
    "\n",
    "resultado = dict()\n",
    "for k in divs:\n",
    "    [M, n, N] = [500, 8, k]\n",
    "    rv = hypergeom(M, n, N)\n",
    "    x = np.arange(0, n+1)\n",
    "    prob = rv.pmf(x)\n",
    "    resultado[k] = prob\n",
    "for k in resultado :\n",
    "    pos = 0\n",
    "    print(\"Para k = \", k, \"\\n\")\n",
    "    while pos < 9 :\n",
    "        print(\"La probabilidad de encontrar\", pos , \"perros infectados en un grupo de\", k ,\"perros es:\", resultado[k][pos],\"\\n\")\n",
    "        pos += 1"
   ]
  },
  {
   "cell_type": "markdown",
   "metadata": {},
   "source": [
    "## Tabla de probabilidades :\n",
    "\n",
    "k | P(I=0) | P(I=1) | P(I=2) | P(I=3) | P(I=4) | P(I=5) | P(I=6) | P(I=7) | P(I=8) | \n",
    " --- | --- | --- | --- | --- | --- | --- | --- | --- | --- |\n",
    "1 | 0.984 | 0.0 | 0.0 | 0.0 | 0.0 | 0.0 | 0.0 | 0.0 | 0.0 |\n",
    "2 | 0.968 | 0.032 | 0.0 | 0.0 | 0.0 | 0.0 | 0.0 | 0.0 | 0.0 |\n",
    "4 | 0.937 | 0.061 | 0.001 | 0.0 | 0.0 | 0.0 | 0.0 | 0.0 | 0.0 |\n",
    "5 | 0.922 | 0.076 | 0.002 | 0.0 | 0.0 | 0.0 | 0.0 | 0.0 | 0.0 |\n",
    "10 | 0.850 | 0.141 | 0.009 | 0.0 | 0.0 | 0.0 | 0.0 | 0.0 | 0.0 |\n",
    "20 | 0.720 | 0.243 | 0.034 | 0.003 | 0.0 | 0.0 | 0.0 | 0.0 | 0.0 |\n",
    "25 | 0.661 | 0.283 | 0.051 | 0.005 | 0.0 | 0.0 | 0.0 | 0.0 | 0.0 |\n",
    "50 | 0.428 | 0.386 | 0.149 | 0.032 | 0.004 | 0.0 | 0.0 | 0.0 | 0.0 |\n",
    "100 | 0.165 | 0.337 | 0.296 | 0.147 | 0.045 | 0.009 | 0.001 | 0.0 | 0.0 |\n",
    "125 | 0.098 | 0.267 | 0.314 | 0.209 | 0.086 | 0.223 | 0.004 | 0.0 | 0.0 |\n",
    "250 | 0.004 | 0.030 | 0.108 | 0.220 | 0.276 | 0.220 | 0.108 | 0.030 | 0.004 |\n",
    "500 | 0.0 | 0.0 | 0.0 | 0.0 | 0.0 | 0.0 | 0.0 | 0.0 | 1.0 |\n"
   ]
  },
  {
   "cell_type": "code",
   "execution_count": 26,
   "metadata": {},
   "outputs": [
    {
     "name": "stdout",
     "output_type": "stream",
     "text": [
      "El valores esperado para k =  1 es de :  0.016000000000001374\n",
      "El valores esperado para k =  2 es de :  0.0320000000000083\n",
      "El valores esperado para k =  4 es de :  0.06400000000000686\n",
      "El valores esperado para k =  5 es de :  0.08000000000000358\n",
      "El valores esperado para k =  10 es de :  0.159999999999892\n",
      "El valores esperado para k =  20 es de :  0.31999999999994705\n",
      "El valores esperado para k =  25 es de :  0.40000000000013075\n",
      "El valores esperado para k =  50 es de :  0.8000000000004119\n",
      "El valores esperado para k =  100 es de :  1.6000000000002494\n",
      "El valores esperado para k =  125 es de :  1.999999999999856\n",
      "El valores esperado para k =  250 es de :  4.000000000000617\n",
      "El valores esperado para k =  500 es de :  8.0\n"
     ]
    }
   ],
   "source": [
    "#Calcula la esperanza de encontrar I perros enfermos en una muestra de k perros.\n",
    "\n",
    "def valor_esperado(probabilidades):\n",
    "    inf = 0\n",
    "    esperanza = 0\n",
    "    while inf < 9:\n",
    "        esperanza += inf * probabilidades[inf]\n",
    "        inf += 1 \n",
    "    return esperanza\n",
    "for k in resultado :\n",
    "    esperanza = valor_esperado(resultado[k])\n",
    "    print(\"El valores esperado para k = \",k, \"es de : \" , esperanza)"
   ]
  },
  {
   "cell_type": "markdown",
   "metadata": {},
   "source": [
    "Se determina una función g(K,E) para determinar la cantidad de pruebas totales, donde:\n",
    "\n",
    "- **$g(K,E)=$** $\\frac{500}{K}$ + $\\frac{8}{E}*k$\n",
    "\n",
    "donde K es la muestra de k perros y E es la esperanza de encontrar I perros enfermos en ese grupo."
   ]
  },
  {
   "cell_type": "code",
   "execution_count": 28,
   "metadata": {},
   "outputs": [
    {
     "name": "stdout",
     "output_type": "stream",
     "text": [
      "La cantidad de pruebas esperadas para un k =  1  es de  508.0\n",
      "La cantidad de pruebas esperadas para un k =  2  es de  266.0\n",
      "La cantidad de pruebas esperadas para un k =  4  es de  157.0\n",
      "La cantidad de pruebas esperadas para un k =  5  es de  140.0\n",
      "La cantidad de pruebas esperadas para un k =  10  es de  130.0\n",
      "La cantidad de pruebas esperadas para un k =  20  es de  185.0\n",
      "La cantidad de pruebas esperadas para un k =  25  es de  220.0\n",
      "La cantidad de pruebas esperadas para un k =  50  es de  410.0\n",
      "La cantidad de pruebas esperadas para un k =  100  es de  405.0\n",
      "La cantidad de pruebas esperadas para un k =  125  es de  504.0\n",
      "La cantidad de pruebas esperadas para un k =  250  es de  502.0\n",
      "La cantidad de pruebas esperadas para un k =  500  es de  501.0\n"
     ]
    }
   ],
   "source": [
    "# Aplica la fórmula dicha anterior mente para cada K y su respectivo valor esperado.\n",
    "\n",
    "def pruebas_totales(k,esperanza):\n",
    "    if esperanza < 1.0 :\n",
    "        pruebas = 500/k + 8*k\n",
    "    else:\n",
    "        pruebas = 500/k + (8/round(esperanza,0)) * k\n",
    "    return pruebas\n",
    "for k in resultado :\n",
    "    esperanza = valor_esperado(resultado[k])\n",
    "    pruebas = pruebas_totales(k,esperanza)\n",
    "    print(\"La cantidad de pruebas esperadas para un k = \",k,\" es de \", pruebas)"
   ]
  },
  {
   "cell_type": "markdown",
   "metadata": {},
   "source": [
    "Por lo tanto, el $K$ que minimiza la cantidad de pruebas es un **$K = 10$** , con **130 pruebas**"
   ]
  },
  {
   "cell_type": "code",
   "execution_count": null,
   "metadata": {},
   "outputs": [],
   "source": []
  },
  {
   "cell_type": "markdown",
   "metadata": {},
   "source": [
    ">b) Encuentre **empíricamente** un valor de $K$ que minimice la cantidad de veces que se realiza la prueba y compare con el obtenido en a)"
   ]
  },
  {
   "cell_type": "markdown",
   "metadata": {},
   "source": [
    "## RESPUESTA 3.b) :"
   ]
  },
  {
   "cell_type": "code",
   "execution_count": 29,
   "metadata": {},
   "outputs": [
    {
     "name": "stdout",
     "output_type": "stream",
     "text": [
      "{1: 508, 2: 266, 4: 157, 5: 140, 10: 130, 20: 165, 25: 195, 50: 310, 100: 405, 125: 504, 250: 502, 500: 501}\n"
     ]
    }
   ],
   "source": [
    "import random, time\n",
    "random.seed(time.time())\n",
    "perritos = list()\n",
    "infectados= list()\n",
    "i = 0\n",
    "while i != 8:\n",
    "    inf = random.randint(0, 499)\n",
    "    if inf not in infectados:\n",
    "        infectados.append(inf)\n",
    "        i+=1\n",
    "for i in range(500):\n",
    "    if i in infectados :\n",
    "        perritos.append(True)\n",
    "    else:\n",
    "        perritos.append(False)\n",
    "def probar_grupos_des(k, perritos) :\n",
    "    veces = 0\n",
    "    c_ant = 0\n",
    "    c_des = k\n",
    "    while c_des <= 500 :\n",
    "        grupo = perritos[c_ant:c_des]\n",
    "        veces += 1\n",
    "        if True in grupo :\n",
    "            for i in grupo:\n",
    "                veces+= 1\n",
    "        c_ant += k\n",
    "        c_des += k\n",
    "    return(veces)\n",
    "veces_k = dict()\n",
    "for i in divisores(500) :\n",
    "    veces = probar_grupos_des(i,perritos)\n",
    "    veces_k[i] = veces\n",
    "print(veces_k)\n"
   ]
  },
  {
   "cell_type": "markdown",
   "metadata": {},
   "source": [
    "Por lo tanto, el **$K$** que minimiza la cantidad de pruebas es un **$K = 10$**, tal como lo calculado en a)."
   ]
  },
  {
   "cell_type": "code",
   "execution_count": null,
   "metadata": {},
   "outputs": [],
   "source": []
  },
  {
   "cell_type": "markdown",
   "metadata": {},
   "source": [
    ">c) Ahora usted conoce la cantidad de perros infectados, realice el mismo experimento que en b) y compare sus resultados. ¿A qué se debe esta diferencia?"
   ]
  },
  {
   "cell_type": "markdown",
   "metadata": {},
   "source": [
    "## RESPUESTA 3.c) :"
   ]
  },
  {
   "cell_type": "code",
   "execution_count": 6,
   "metadata": {},
   "outputs": [
    {
     "name": "stdout",
     "output_type": "stream",
     "text": [
      "{1: 444, 2: 234, 4: 141, 5: 119, 10: 100, 20: 138, 25: 154, 50: 245, 100: 341, 125: 440, 250: 438, 500: 437}\n"
     ]
    }
   ],
   "source": [
    "def probar_grupos_con(k, perritos) :\n",
    "    veces = 0\n",
    "    c_ant = 0\n",
    "    c_des = k\n",
    "    enfermos = 0\n",
    "    while enfermos != 8 :\n",
    "        grupo = perritos[c_ant:c_des]\n",
    "        veces += 1\n",
    "        if True in grupo:\n",
    "            cont = 0\n",
    "            while cont < len(grupo) and enfermos != 8:\n",
    "                if grupo[cont] == True:\n",
    "                    enfermos += 1\n",
    "                veces+= 1\n",
    "                cont += 1\n",
    "        c_ant += k\n",
    "        c_des += k\n",
    "    return(veces)\n",
    "veces_k_con = dict()\n",
    "for i in divisores(500) :\n",
    "    veces = probar_grupos_con(i,perritos)\n",
    "    veces_k_con[i] = veces\n",
    "print(veces_k_con)"
   ]
  },
  {
   "cell_type": "markdown",
   "metadata": {},
   "source": [
    "Por lo tanto, el **$K$** que minimiza la cantidad de pruebas es un **$K=10$**. Existe una pequeña diferencia entre las cantidades de pruebas que se realizan, esto se debe a que se termina de realizar las pruebas una vez encontrado a los 8 perros enfermos. En cambio en la pregunta b), como no se sabía la cantidad de perros enfermos, se revisaba todo el grupo sí o sí."
   ]
  },
  {
   "cell_type": "markdown",
   "metadata": {},
   "source": [
    "## Reglas del Juego y Comentarios \n",
    "\n",
    "+ Errores ortográficos, de redacción y oraciones ambiguas descontarán parte de su puntaje.\n",
    "+ Dudas solamente hasta el día 27 de Abril a las 15hrs.\n",
    "+ Dudas **principalmente** vía moodle, evite otro tipo de medio ya que su duda podría ser la de otro.\n",
    "+ Cada día de atraso descuenta 25 puntos de la nota final con un máximo de dos días de retraso (después es 0).\n",
    "+ La versión de R que se usará para revisar es 3.5.3\n",
    "+ La versión de Python que se usará para revisar es 3.6.8\n",
    "+ Use cualquier librería que estime conveniente, si requiere de instalación explicitarlo en el README (y bien explicitado).\n",
    "+ Código comentado para facilitar entendimiento.\n",
    "+ Sea formal y claro con su respuesta, **explique su procedimiento y luego responda.** \n",
    "+ Defina bien las secciones de su notebook, el orden siempre es bueno :) [Tips para usar Markdown](https://github.com/adam-p/markdown-here/wiki/Markdown-Cheatsheet)"
   ]
  }
 ],
 "metadata": {
  "kernelspec": {
   "display_name": "Python 3",
   "language": "python",
   "name": "python3"
  },
  "language_info": {
   "codemirror_mode": {
    "name": "ipython",
    "version": 3
   },
   "file_extension": ".py",
   "mimetype": "text/x-python",
   "name": "python",
   "nbconvert_exporter": "python",
   "pygments_lexer": "ipython3",
   "version": "3.6.7"
  }
 },
 "nbformat": 4,
 "nbformat_minor": 2
}
